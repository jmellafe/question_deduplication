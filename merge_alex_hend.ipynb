{
  "nbformat": 4,
  "nbformat_minor": 0,
  "metadata": {
    "colab": {
      "name": "merge_alex_hend.ipynb",
      "version": "0.3.2",
      "provenance": [],
      "include_colab_link": true
    },
    "kernelspec": {
      "name": "python3",
      "display_name": "Python 3"
    }
  },
  "cells": [
    {
      "cell_type": "markdown",
      "metadata": {
        "id": "view-in-github",
        "colab_type": "text"
      },
      "source": [
        "<a href=\"https://colab.research.google.com/github/jmellafe/question_deduplication/blob/master/merge_alex_hend.ipynb\" target=\"_parent\"><img src=\"https://colab.research.google.com/assets/colab-badge.svg\" alt=\"Open In Colab\"/></a>"
      ]
    },
    {
      "cell_type": "code",
      "metadata": {
        "id": "vC7iDHe9BcUD",
        "colab_type": "code",
        "colab": {}
      },
      "source": [
        "import numpy as np\n",
        "import seaborn as sns\n",
        "from matplotlib import pyplot as plt\n",
        "import pandas as pd\n",
        "from nltk.tokenize import word_tokenize\n",
        "from nltk.corpus import stopwords\n",
        "from gensim.corpora import Dictionary\n",
        "from gensim.models import TfidfModel, KeyedVectors\n",
        "from collections import Counter\n",
        "from nltk.corpus import stopwords\n",
        "\n",
        "from sklearn.metrics import log_loss\n",
        "from sklearn.metrics.pairwise import cosine_similarity\n",
        "from sklearn.tree import DecisionTreeClassifier\n",
        "from sklearn.ensemble import RandomForestClassifier\n",
        "from sklearn.multiclass import OneVsRestClassifier\n",
        "from sklearn.svm import LinearSVC\n",
        "import sklearn.svm as svm\n",
        "from sklearn.metrics import roc_auc_score\n",
        "\n",
        "pd.options.mode.chained_assignment = None # To avoid warnings"
      ],
      "execution_count": 0,
      "outputs": []
    },
    {
      "cell_type": "code",
      "metadata": {
        "id": "pCs7aRwYBqi2",
        "colab_type": "code",
        "colab": {
          "base_uri": "https://localhost:8080/",
          "height": 35
        },
        "outputId": "168e831b-b1db-4243-8280-0838fd9f002c"
      },
      "source": [
        "# import data from the drive \n",
        "\n",
        "from google.colab import drive\n",
        "drive.mount('/content/gdrive', force_remount=True)\n",
        "root_path = '/content/gdrive/My Drive/KTH courses/P4/NLP Language processing/project/data/train.csv' #change dir to your project folder"
      ],
      "execution_count": 2,
      "outputs": [
        {
          "output_type": "stream",
          "text": [
            "Mounted at /content/gdrive\n"
          ],
          "name": "stdout"
        }
      ]
    },
    {
      "cell_type": "markdown",
      "metadata": {
        "id": "c3AMjVjZB2k1",
        "colab_type": "text"
      },
      "source": [
        "# 0. Exploring the dataset\n",
        "\n"
      ]
    },
    {
      "cell_type": "code",
      "metadata": {
        "id": "NBKi1QBaBvu6",
        "colab_type": "code",
        "colab": {}
      },
      "source": [
        "# Hend data importing cell \n",
        "\n",
        "df = pd.read_csv('/content/gdrive/My Drive/KTH courses/P4/NLP Language processing/project/data/train.csv')\n",
        "df.head()"
      ],
      "execution_count": 0,
      "outputs": []
    },
    {
      "cell_type": "code",
      "metadata": {
        "id": "rOOit2ZqBwEn",
        "colab_type": "code",
        "colab": {
          "base_uri": "https://localhost:8080/",
          "height": 204
        },
        "outputId": "405a1415-aef9-490d-af1f-2b0ae37d9f67"
      },
      "source": [
        "#Alex data importing cell\n",
        "\n",
        "df = pd.read_csv('/content/gdrive/My Drive/project/data/train.csv')\n",
        "df.head()"
      ],
      "execution_count": 3,
      "outputs": [
        {
          "output_type": "execute_result",
          "data": {
            "text/html": [
              "<div>\n",
              "<style scoped>\n",
              "    .dataframe tbody tr th:only-of-type {\n",
              "        vertical-align: middle;\n",
              "    }\n",
              "\n",
              "    .dataframe tbody tr th {\n",
              "        vertical-align: top;\n",
              "    }\n",
              "\n",
              "    .dataframe thead th {\n",
              "        text-align: right;\n",
              "    }\n",
              "</style>\n",
              "<table border=\"1\" class=\"dataframe\">\n",
              "  <thead>\n",
              "    <tr style=\"text-align: right;\">\n",
              "      <th></th>\n",
              "      <th>id</th>\n",
              "      <th>qid1</th>\n",
              "      <th>qid2</th>\n",
              "      <th>question1</th>\n",
              "      <th>question2</th>\n",
              "      <th>is_duplicate</th>\n",
              "    </tr>\n",
              "  </thead>\n",
              "  <tbody>\n",
              "    <tr>\n",
              "      <th>0</th>\n",
              "      <td>0</td>\n",
              "      <td>1</td>\n",
              "      <td>2</td>\n",
              "      <td>What is the step by step guide to invest in sh...</td>\n",
              "      <td>What is the step by step guide to invest in sh...</td>\n",
              "      <td>0</td>\n",
              "    </tr>\n",
              "    <tr>\n",
              "      <th>1</th>\n",
              "      <td>1</td>\n",
              "      <td>3</td>\n",
              "      <td>4</td>\n",
              "      <td>What is the story of Kohinoor (Koh-i-Noor) Dia...</td>\n",
              "      <td>What would happen if the Indian government sto...</td>\n",
              "      <td>0</td>\n",
              "    </tr>\n",
              "    <tr>\n",
              "      <th>2</th>\n",
              "      <td>2</td>\n",
              "      <td>5</td>\n",
              "      <td>6</td>\n",
              "      <td>How can I increase the speed of my internet co...</td>\n",
              "      <td>How can Internet speed be increased by hacking...</td>\n",
              "      <td>0</td>\n",
              "    </tr>\n",
              "    <tr>\n",
              "      <th>3</th>\n",
              "      <td>3</td>\n",
              "      <td>7</td>\n",
              "      <td>8</td>\n",
              "      <td>Why am I mentally very lonely? How can I solve...</td>\n",
              "      <td>Find the remainder when [math]23^{24}[/math] i...</td>\n",
              "      <td>0</td>\n",
              "    </tr>\n",
              "    <tr>\n",
              "      <th>4</th>\n",
              "      <td>4</td>\n",
              "      <td>9</td>\n",
              "      <td>10</td>\n",
              "      <td>Which one dissolve in water quikly sugar, salt...</td>\n",
              "      <td>Which fish would survive in salt water?</td>\n",
              "      <td>0</td>\n",
              "    </tr>\n",
              "  </tbody>\n",
              "</table>\n",
              "</div>"
            ],
            "text/plain": [
              "   id  qid1  qid2                                          question1  \\\n",
              "0   0     1     2  What is the step by step guide to invest in sh...   \n",
              "1   1     3     4  What is the story of Kohinoor (Koh-i-Noor) Dia...   \n",
              "2   2     5     6  How can I increase the speed of my internet co...   \n",
              "3   3     7     8  Why am I mentally very lonely? How can I solve...   \n",
              "4   4     9    10  Which one dissolve in water quikly sugar, salt...   \n",
              "\n",
              "                                           question2  is_duplicate  \n",
              "0  What is the step by step guide to invest in sh...             0  \n",
              "1  What would happen if the Indian government sto...             0  \n",
              "2  How can Internet speed be increased by hacking...             0  \n",
              "3  Find the remainder when [math]23^{24}[/math] i...             0  \n",
              "4            Which fish would survive in salt water?             0  "
            ]
          },
          "metadata": {
            "tags": []
          },
          "execution_count": 3
        }
      ]
    },
    {
      "cell_type": "code",
      "metadata": {
        "id": "7WDHSoKmBwud",
        "colab_type": "code",
        "colab": {}
      },
      "source": [
        "# Shuffle the data\n",
        "\n",
        "df = df.sample(frac=1, random_state = 0).reset_index(drop=True)\n",
        "\n",
        "# Create train, validation and test datasets\n",
        "train_portion = 0.7\n",
        "val_portion = 0.15\n",
        "test_portion = 0.15\n",
        "\n",
        "train_idx = int(train_portion * df.shape[0])\n",
        "val_idx = int((train_portion + val_portion) * df.shape[0])\n",
        "\n",
        "train = df[:train_idx]\n",
        "val = df[train_idx:val_idx]\n",
        "test = df[val_idx:]"
      ],
      "execution_count": 0,
      "outputs": []
    },
    {
      "cell_type": "code",
      "metadata": {
        "id": "scPk5uTgBxJF",
        "colab_type": "code",
        "colab": {
          "base_uri": "https://localhost:8080/",
          "height": 316
        },
        "outputId": "ed4e0fd3-bee4-4586-f423-967a1e2e7d3e"
      },
      "source": [
        "is_dup = train['is_duplicate'].value_counts()\n",
        "print(\"Class 0: \", is_dup[0], \" Class1: \", is_dup[1])\n",
        "plt.figure(figsize=(8,4))\n",
        "sns.barplot(is_dup.index, is_dup.values, alpha=0.8)\n",
        "plt.ylabel('Number of Occurrences', fontsize=12)\n",
        "plt.xlabel('Is Duplicate', fontsize=12)\n",
        "plt.title('Checking the balance of the classes')\n",
        "plt.show()"
      ],
      "execution_count": 5,
      "outputs": [
        {
          "output_type": "stream",
          "text": [
            "Class 0:  178510  Class1:  104493\n"
          ],
          "name": "stdout"
        },
        {
          "output_type": "display_data",
          "data": {
            "image/png": "[encoded data removed]",
            "text/plain": [
              "<Figure size 576x288 with 1 Axes>"
            ]
          },
          "metadata": {
            "tags": []
          }
        }
      ]
    },
    {
      "cell_type": "code",
      "metadata": {
        "id": "0FAp3P5kBxeY",
        "colab_type": "code",
        "colab": {}
      },
      "source": [
        "# balancing the training set\n",
        "class0 = train[train['is_duplicate']==0].sample(n=is_dup[1], random_state=1)\n",
        "class1 = train[train['is_duplicate']==1]\n",
        "train = pd.concat([class0, class1])\n",
        "\n",
        "train = train.sample(frac = 1).reset_index(drop = True)\n"
      ],
      "execution_count": 0,
      "outputs": []
    },
    {
      "cell_type": "code",
      "metadata": {
        "id": "GZ-8TmjBBxzi",
        "colab_type": "code",
        "colab": {
          "base_uri": "https://localhost:8080/",
          "height": 331
        },
        "outputId": "fa2b8be4-f175-4a86-dc02-477b611afd85"
      },
      "source": [
        "\n",
        "# HIstogram number of words\n",
        "\n",
        "temp = train['question1'].apply(lambda x: len(x.split()) if type(x) == str else np.nan)\n",
        "\n",
        "temp2 = train['question2'].apply(lambda x: len(x.split()) if type(x) == str else np.nan)\n",
        "\n",
        "temp = pd.concat([temp, temp2]).dropna()\n",
        "\n",
        "sns.distplot(temp, kde=False)\n",
        "plt.legend()\n",
        "plt.title(\"Distribution number of words in questions\")\n",
        "plt.xlabel(\"Number of words\")\n",
        "plt.ylabel(\"frequency\")\n",
        "\n",
        "plt.show()\n",
        "plt.clf()\n"
      ],
      "execution_count": 7,
      "outputs": [
        {
          "output_type": "stream",
          "text": [
            "No handles with labels found to put in legend.\n"
          ],
          "name": "stderr"
        },
        {
          "output_type": "display_data",
          "data": {
            "image/png": "[encoded data removed]",
            "text/plain": [
              "<Figure size 432x288 with 1 Axes>"
            ]
          },
          "metadata": {
            "tags": []
          }
        },
        {
          "output_type": "display_data",
          "data": {
            "text/plain": [
              "<Figure size 432x288 with 0 Axes>"
            ]
          },
          "metadata": {
            "tags": []
          }
        }
      ]
    },
    {
      "cell_type": "code",
      "metadata": {
        "id": "4UyhA2lOCB37",
        "colab_type": "code",
        "colab": {
          "base_uri": "https://localhost:8080/",
          "height": 331
        },
        "outputId": "f724b86e-3563-402f-a755-814685535c14"
      },
      "source": [
        "# detail same plot\n",
        "sns.distplot(temp[temp < 50], kde=False)\n",
        "plt.legend()\n",
        "plt.title(\"Distribution number of words in questions\")\n",
        "plt.xlabel(\"Number of words\")\n",
        "plt.ylabel(\"frequency\")\n",
        "\n",
        "plt.show()\n",
        "plt.clf()"
      ],
      "execution_count": 8,
      "outputs": [
        {
          "output_type": "stream",
          "text": [
            "No handles with labels found to put in legend.\n"
          ],
          "name": "stderr"
        },
        {
          "output_type": "display_data",
          "data": {
            "image/png": "[encoded data removed]",
            "text/plain": [
              "<Figure size 432x288 with 1 Axes>"
            ]
          },
          "metadata": {
            "tags": []
          }
        },
        {
          "output_type": "display_data",
          "data": {
            "text/plain": [
              "<Figure size 432x288 with 0 Axes>"
            ]
          },
          "metadata": {
            "tags": []
          }
        }
      ]
    },
    {
      "cell_type": "markdown",
      "metadata": {
        "id": "sd7MqdQ9CPbP",
        "colab_type": "text"
      },
      "source": [
        "# 1.Random Forest\n",
        "\n",
        "see papers: http://papers.www2017.com.au.s3-website-ap-southeast-2.amazonaws.com/proceedings/p1221.pdf \n"
      ]
    },
    {
      "cell_type": "code",
      "metadata": {
        "id": "bdG0-JkSgGKA",
        "colab_type": "code",
        "colab": {}
      },
      "source": [
        "# Embedding file, Alex path\n",
        "EMBEDDING_FILE = '/content/gdrive/My Drive/project/embeddings/GoogleNews-vectors-negative300.bin'"
      ],
      "execution_count": 0,
      "outputs": []
    },
    {
      "cell_type": "code",
      "metadata": {
        "id": "yeypnWA8gabJ",
        "colab_type": "code",
        "colab": {}
      },
      "source": [
        "# Embbeding file, Hend path\n",
        "EMBEDDING_FILE = '/content/gdrive/My Drive/KTH courses/P4/NLP Language processing/project/data/GoogleNews-vectors-negative300.bin.gz'"
      ],
      "execution_count": 0,
      "outputs": []
    },
    {
      "cell_type": "code",
      "metadata": {
        "id": "dkcoIQLKCCS4",
        "colab_type": "code",
        "colab": {
          "base_uri": "https://localhost:8080/",
          "height": 71
        },
        "outputId": "b88c746e-d5e5-4905-8b4e-f64f02f0b39b"
      },
      "source": [
        "import nltk\n",
        "nltk.download('punkt')"
      ],
      "execution_count": 10,
      "outputs": [
        {
          "output_type": "stream",
          "text": [
            "[nltk_data] Downloading package punkt to /root/nltk_data...\n",
            "[nltk_data]   Package punkt is already up-to-date!\n"
          ],
          "name": "stdout"
        },
        {
          "output_type": "execute_result",
          "data": {
            "text/plain": [
              "True"
            ]
          },
          "metadata": {
            "tags": []
          },
          "execution_count": 10
        }
      ]
    },
    {
      "cell_type": "code",
      "metadata": {
        "id": "nGIxOZBvCCn2",
        "colab_type": "code",
        "colab": {}
      },
      "source": [
        "# Tokenization of datasets\n",
        "train['q1_tokens'] = train['question1'].apply(lambda x: word_tokenize(x) if type(x)==str else np.nan)\n",
        "train['q2_tokens'] = train['question2'].apply(lambda x: word_tokenize(x) if type(x)==str else np.nan)\n",
        "\n",
        "val['q1_tokens'] = val['question1'].apply(lambda x: word_tokenize(x) if type(x)==str else np.nan)\n",
        "val['q2_tokens'] = val['question2'].apply(lambda x: word_tokenize(x) if type(x)==str else np.nan)\n",
        "\n",
        "test['q1_tokens'] = test['question1'].apply(lambda x: word_tokenize(x) if type(x)==str else np.nan)\n",
        "test['q2_tokens'] = test['question2'].apply(lambda x: word_tokenize(x) if type(x)==str else np.nan)"
      ],
      "execution_count": 0,
      "outputs": []
    },
    {
      "cell_type": "code",
      "metadata": {
        "id": "iSKRVyLDaiTC",
        "colab_type": "code",
        "colab": {
          "base_uri": "https://localhost:8080/",
          "height": 53
        },
        "outputId": "237bb1c8-1758-444b-b44b-0a156cf34e49"
      },
      "source": [
        "# delete stopwords\n",
        "nltk.download('stopwords')\n",
        "STOP_WORDS = set(stopwords.words('english'))\n",
        "train['q1_tokens'] = train['q1_tokens'].apply(lambda x: [w for w in x if w not in STOP_WORDS] if isinstance(x, list) else x)\n",
        "train['q2_tokens'] = train['q2_tokens'].apply(lambda x: [w for w in x if w not in STOP_WORDS] if isinstance(x, list) else x)\n",
        "\n",
        "val['q1_tokens'] = val['q1_tokens'].apply(lambda x: [w for w in x if w not in STOP_WORDS] if isinstance(x, list) else x)\n",
        "val['q2_tokens'] = val['q2_tokens'].apply(lambda x: [w for w in x if w not in STOP_WORDS] if isinstance(x, list) else x)\n",
        "\n",
        "test['q1_tokens'] = test['q1_tokens'].apply(lambda x: [w for w in x if w not in STOP_WORDS] if isinstance(x, list) else x)\n",
        "test['q2_tokens'] = test['q2_tokens'].apply(lambda x: [w for w in x if w not in STOP_WORDS] if isinstance(x, list) else x)"
      ],
      "execution_count": 12,
      "outputs": [
        {
          "output_type": "stream",
          "text": [
            "[nltk_data] Downloading package stopwords to /root/nltk_data...\n",
            "[nltk_data]   Package stopwords is already up-to-date!\n"
          ],
          "name": "stdout"
        }
      ]
    },
    {
      "cell_type": "code",
      "metadata": {
        "id": "NoOA31mfau7R",
        "colab_type": "code",
        "colab": {
          "base_uri": "https://localhost:8080/",
          "height": 289
        },
        "outputId": "530cfb44-b95f-4e65-db8a-8f81e4dc3328"
      },
      "source": [
        "# Create gensim dictionary to allow BoW representation\n",
        "dctr = Dictionary(train['q1_tokens'].dropna())\n",
        "dctr.add_documents(train['q2_tokens'].dropna())\n",
        "\n",
        "# Create tf-idf model\n",
        "corpus = train['q1_tokens'].tolist() + train['q2_tokens'].tolist()\n",
        "corpus = [dctr.doc2bow(sent) for sent in corpus if type(sent)==list]\n",
        "model = TfidfModel(corpus)\n",
        "\n",
        "# Apply tf-idf to all the questions in the training set, creating new columns\n",
        "train['q1_tfidf'] = train['q1_tokens'].apply(lambda x: model[dctr.doc2bow(x)] if type(x)==list else np.nan)\n",
        "train['q2_tfidf'] = train['q2_tokens'].apply(lambda x: model[dctr.doc2bow(x)] if type(x)==list else np.nan)\n",
        "\n",
        "val['q1_tfidf'] = val['q1_tokens'].apply(lambda x: model[dctr.doc2bow(x)] if type(x)==list else np.nan)\n",
        "val['q2_tfidf'] = val['q2_tokens'].apply(lambda x: model[dctr.doc2bow(x)] if type(x)==list else np.nan)\n",
        "\n",
        "test['q1_tfidf'] = test['q1_tokens'].apply(lambda x: model[dctr.doc2bow(x)] if type(x)==list else np.nan)\n",
        "test['q2_tfidf'] = test['q2_tokens'].apply(lambda x: model[dctr.doc2bow(x)] if type(x)==list else np.nan)\n",
        "\n",
        "train.head()"
      ],
      "execution_count": 13,
      "outputs": [
        {
          "output_type": "execute_result",
          "data": {
            "text/html": [
              "<div>\n",
              "<style scoped>\n",
              "    .dataframe tbody tr th:only-of-type {\n",
              "        vertical-align: middle;\n",
              "    }\n",
              "\n",
              "    .dataframe tbody tr th {\n",
              "        vertical-align: top;\n",
              "    }\n",
              "\n",
              "    .dataframe thead th {\n",
              "        text-align: right;\n",
              "    }\n",
              "</style>\n",
              "<table border=\"1\" class=\"dataframe\">\n",
              "  <thead>\n",
              "    <tr style=\"text-align: right;\">\n",
              "      <th></th>\n",
              "      <th>id</th>\n",
              "      <th>qid1</th>\n",
              "      <th>qid2</th>\n",
              "      <th>question1</th>\n",
              "      <th>question2</th>\n",
              "      <th>is_duplicate</th>\n",
              "      <th>q1_tokens</th>\n",
              "      <th>q2_tokens</th>\n",
              "      <th>q1_tfidf</th>\n",
              "      <th>q2_tfidf</th>\n",
              "    </tr>\n",
              "  </thead>\n",
              "  <tbody>\n",
              "    <tr>\n",
              "      <th>0</th>\n",
              "      <td>282133</td>\n",
              "      <td>202489</td>\n",
              "      <td>22665</td>\n",
              "      <td>Which is the most used programming language in...</td>\n",
              "      <td>Which computer language is the most used?</td>\n",
              "      <td>1</td>\n",
              "      <td>[Which, used, programming, language, world, cu...</td>\n",
              "      <td>[Which, computer, language, used, ?]</td>\n",
              "      <td>[(0, 8.939333220814905e-05), (1, 0.25172827630...</td>\n",
              "      <td>[(0, 0.00011748551739742082), (1, 0.3308348179...</td>\n",
              "    </tr>\n",
              "    <tr>\n",
              "      <th>1</th>\n",
              "      <td>339444</td>\n",
              "      <td>467106</td>\n",
              "      <td>52236</td>\n",
              "      <td>What inspires you the most in your life?</td>\n",
              "      <td>What inspires you most to do something in your...</td>\n",
              "      <td>0</td>\n",
              "      <td>[What, inspires, life, ?]</td>\n",
              "      <td>[What, inspires, something, life, ?]</td>\n",
              "      <td>[(0, 0.00010188545055962743), (7, 0.0918185888...</td>\n",
              "      <td>[(0, 8.923360106546234e-05), (7, 0.08041681396...</td>\n",
              "    </tr>\n",
              "    <tr>\n",
              "      <th>2</th>\n",
              "      <td>97747</td>\n",
              "      <td>162580</td>\n",
              "      <td>162581</td>\n",
              "      <td>Is it that tough to get into IIT?</td>\n",
              "      <td>Is it tough to get into IIT?</td>\n",
              "      <td>1</td>\n",
              "      <td>[Is, tough, get, IIT, ?]</td>\n",
              "      <td>[Is, tough, get, IIT, ?]</td>\n",
              "      <td>[(0, 9.687800669647881e-05), (10, 0.5666653365...</td>\n",
              "      <td>[(0, 9.687800669647881e-05), (10, 0.5666653365...</td>\n",
              "    </tr>\n",
              "    <tr>\n",
              "      <th>3</th>\n",
              "      <td>26633</td>\n",
              "      <td>49539</td>\n",
              "      <td>49540</td>\n",
              "      <td>What practical applications might evolve from ...</td>\n",
              "      <td>Are there any practical applications for the d...</td>\n",
              "      <td>1</td>\n",
              "      <td>[What, practical, applications, might, evolve,...</td>\n",
              "      <td>[Are, practical, applications, discovery, Higg...</td>\n",
              "      <td>[(0, 4.940339845879814e-05), (7, 0.04452206182...</td>\n",
              "      <td>[(0, 5.377422683391227e-05), (15, 0.4594452729...</td>\n",
              "    </tr>\n",
              "    <tr>\n",
              "      <th>4</th>\n",
              "      <td>283052</td>\n",
              "      <td>86534</td>\n",
              "      <td>403086</td>\n",
              "      <td>What has been the single most important life d...</td>\n",
              "      <td>What is the biggest/most important decision yo...</td>\n",
              "      <td>1</td>\n",
              "      <td>[What, single, important, life, decision, made...</td>\n",
              "      <td>[What, biggest/most, important, decision, took...</td>\n",
              "      <td>[(0, 7.353793438842072e-05), (7, 0.06627196838...</td>\n",
              "      <td>[(0, 4.846161191254096e-05), (7, 0.04367332913...</td>\n",
              "    </tr>\n",
              "  </tbody>\n",
              "</table>\n",
              "</div>"
            ],
            "text/plain": [
              "       id    qid1    qid2                                          question1  \\\n",
              "0  282133  202489   22665  Which is the most used programming language in...   \n",
              "1  339444  467106   52236           What inspires you the most in your life?   \n",
              "2   97747  162580  162581                  Is it that tough to get into IIT?   \n",
              "3   26633   49539   49540  What practical applications might evolve from ...   \n",
              "4  283052   86534  403086  What has been the single most important life d...   \n",
              "\n",
              "                                           question2  is_duplicate  \\\n",
              "0          Which computer language is the most used?             1   \n",
              "1  What inspires you most to do something in your...             0   \n",
              "2                       Is it tough to get into IIT?             1   \n",
              "3  Are there any practical applications for the d...             1   \n",
              "4  What is the biggest/most important decision yo...             1   \n",
              "\n",
              "                                           q1_tokens  \\\n",
              "0  [Which, used, programming, language, world, cu...   \n",
              "1                          [What, inspires, life, ?]   \n",
              "2                           [Is, tough, get, IIT, ?]   \n",
              "3  [What, practical, applications, might, evolve,...   \n",
              "4  [What, single, important, life, decision, made...   \n",
              "\n",
              "                                           q2_tokens  \\\n",
              "0               [Which, computer, language, used, ?]   \n",
              "1               [What, inspires, something, life, ?]   \n",
              "2                           [Is, tough, get, IIT, ?]   \n",
              "3  [Are, practical, applications, discovery, Higg...   \n",
              "4  [What, biggest/most, important, decision, took...   \n",
              "\n",
              "                                            q1_tfidf  \\\n",
              "0  [(0, 8.939333220814905e-05), (1, 0.25172827630...   \n",
              "1  [(0, 0.00010188545055962743), (7, 0.0918185888...   \n",
              "2  [(0, 9.687800669647881e-05), (10, 0.5666653365...   \n",
              "3  [(0, 4.940339845879814e-05), (7, 0.04452206182...   \n",
              "4  [(0, 7.353793438842072e-05), (7, 0.06627196838...   \n",
              "\n",
              "                                            q2_tfidf  \n",
              "0  [(0, 0.00011748551739742082), (1, 0.3308348179...  \n",
              "1  [(0, 8.923360106546234e-05), (7, 0.08041681396...  \n",
              "2  [(0, 9.687800669647881e-05), (10, 0.5666653365...  \n",
              "3  [(0, 5.377422683391227e-05), (15, 0.4594452729...  \n",
              "4  [(0, 4.846161191254096e-05), (7, 0.04367332913...  "
            ]
          },
          "metadata": {
            "tags": []
          },
          "execution_count": 13
        }
      ]
    },
    {
      "cell_type": "code",
      "metadata": {
        "id": "FRzxkDnoc9VU",
        "colab_type": "code",
        "colab": {
          "base_uri": "https://localhost:8080/",
          "height": 53
        },
        "outputId": "1673d79e-998d-41d7-e074-168669192fd3"
      },
      "source": [
        "# Create question embeddings as the weighted average of word2vec embeddings, using tfidf for weighting\n",
        "\n",
        "# Load embeddings\n",
        "\n",
        "word2vec = KeyedVectors.load_word2vec_format(EMBEDDING_FILE, binary=True)\n",
        "\n",
        "\n",
        "def tfidf_emb(tfidf_weights, dctr, embeddings):\n",
        "  return np.mean([w[1] * embeddings[dctr[w[0]]] for w in tfidf_weights if dctr[w[0]] in embeddings.vocab], axis = 0) if isinstance(tfidf_weights, list) else np.nan\n",
        "\n",
        "train['q1_emb'] = train['q1_tfidf'].apply(lambda x: tfidf_emb(x, dctr, word2vec))\n",
        "train['q2_emb'] = train['q2_tfidf'].apply(lambda x: tfidf_emb(x, dctr, word2vec))\n",
        "\n",
        "val['q1_emb'] = val['q1_tfidf'].apply(lambda x: tfidf_emb(x, dctr, word2vec))\n",
        "val['q2_emb'] = val['q2_tfidf'].apply(lambda x: tfidf_emb(x, dctr, word2vec))\n",
        "\n",
        "test['q1_emb'] = test['q1_tfidf'].apply(lambda x: tfidf_emb(x, dctr, word2vec))\n",
        "test['q2_emb'] = test['q2_tfidf'].apply(lambda x: tfidf_emb(x, dctr, word2vec))\n",
        "\n",
        "word2vec = None"
      ],
      "execution_count": 14,
      "outputs": [
        {
          "output_type": "stream",
          "text": [
            "/usr/local/lib/python3.6/dist-packages/numpy/core/fromnumeric.py:3118: RuntimeWarning: Mean of empty slice.\n",
            "  out=out, **kwargs)\n"
          ],
          "name": "stderr"
        }
      ]
    },
    {
      "cell_type": "code",
      "metadata": {
        "id": "Nyyox63QCDNg",
        "colab_type": "code",
        "colab": {
          "base_uri": "https://localhost:8080/",
          "height": 143
        },
        "outputId": "9cc51998-5270-44be-9f9c-d6c2d6bc7819"
      },
      "source": [
        "# preparing the features \n",
        "\n",
        "\n",
        "#series of all the questions in the training set \n",
        "train_qs = pd.Series(train['question1'].tolist() + train['question2'].tolist()).astype(str)\n",
        "print(\"Question: \",train_qs[1])\n",
        "\n",
        "#length of the questions provided in the train set\n",
        "len_qs_train = train_qs.apply(lambda x: len(x.split(' ')))\n",
        "print(\"lengh of the question: \",len_qs_train[1])\n",
        "\n",
        "qmarks = np.mean(train_qs.apply(lambda x: '?' in x))\n",
        "print(\"The pourcentage of questions including '?' : \",qmarks)\n",
        "\n",
        "fullstop = np.mean(train_qs.apply(lambda x: '.' in x))\n",
        "print(\"The pourcentage of questions including '.' : \",fullstop)\n",
        "\n",
        "capital_first = np.mean(train_qs.apply(lambda x: x[0].isupper()))\n",
        "print(\"The pourcentage of questions starting with a capital letter is: \",capital_first)\n",
        "\n",
        "capitals = np.mean(train_qs.apply(lambda x: max([y.isupper() for y in x])))\n",
        "print(\"The pourcentage of questions including capital letters : \",capitals)\n",
        "\n",
        "numbers = np.mean(train_qs.apply(lambda x: max([y.isdigit() for y in x])))\n",
        "print(\"The mean max numbers of digits in  of questions including numbers : \",numbers)"
      ],
      "execution_count": 15,
      "outputs": [
        {
          "output_type": "stream",
          "text": [
            "Question:  What inspires you the most in your life?\n",
            "lengh of the question:  8\n",
            "The pourcentage of questions including '?' :  0.9988994478099011\n",
            "The pourcentage of questions including '.' :  0.05602049898079297\n",
            "The pourcentage of questions starting with a capital letter is:  0.9983228541624798\n",
            "The pourcentage of questions including capital letters :  0.9995502091049161\n",
            "The mean max numbers of digits in  of questions including numbers :  0.11622070377920052\n"
          ],
          "name": "stdout"
        }
      ]
    },
    {
      "cell_type": "code",
      "metadata": {
        "id": "3kIY3in2CDe4",
        "colab_type": "code",
        "colab": {}
      },
      "source": [
        "# If a word appears only once, we ignore it completely (likely a typo)\n",
        "# Epsilon defines a smoothing constant, which makes the effect of extremely rare words smaller\n",
        "def get_weight(count, eps=10000, min_count=1):\n",
        "    if count < min_count:\n",
        "        return 0\n",
        "    else:\n",
        "        return 1 / (count + eps)\n",
        "\n",
        "eps = 5000 \n",
        "words = [item for sentence in (train['q1_tokens'].dropna().tolist() + train['q2_tokens'].dropna().tolist()) for item in sentence]\n",
        "counts = Counter(words)\n",
        "weights = {word: get_weight(count) for word, count in counts.items()}\n",
        "\n",
        "stops = set(stopwords.words('english'))"
      ],
      "execution_count": 0,
      "outputs": []
    },
    {
      "cell_type": "code",
      "metadata": {
        "id": "kgoLBv8yCDup",
        "colab_type": "code",
        "colab": {
          "base_uri": "https://localhost:8080/",
          "height": 298
        },
        "outputId": "c4c616ac-2a7b-42ae-c740-0e4ed95cf689"
      },
      "source": [
        "def sim_tfidf(a, b):\n",
        "  if not isinstance(a, list) or not isinstance(b, list) or len(a) + len(b) == 0:\n",
        "    return np.nan\n",
        "  \n",
        "  max_idx = max([w[0] for w in a] + [w[0] for w in b])+1\n",
        "  \n",
        "  a_vec = np.zeros(max_idx)\n",
        "  b_vec = np.zeros(max_idx)\n",
        "  \n",
        "  for w in a:\n",
        "    a_vec[w[0]] = w[-1]\n",
        "    \n",
        "  for w in b:\n",
        "    b_vec[w[0]] = w[-1]\n",
        "  return cosine_similarity(a_vec.reshape(1,-1),b_vec.reshape(1,-1))[0][0]\n",
        "\n",
        "\n",
        "def word_match_share(row):\n",
        "    q1words = {}\n",
        "    q2words = {}\n",
        "    for word in str(row['question1']).lower().split():\n",
        "        if word not in stops:\n",
        "            q1words[word] = 1\n",
        "    for word in str(row['question2']).lower().split():\n",
        "        if word not in stops:\n",
        "            q2words[word] = 1\n",
        "    if len(q1words) == 0 or len(q2words) == 0:\n",
        "        # The computer-generated chaff includes a few questions that are nothing but stopwords\n",
        "        return 0\n",
        "    shared_words_in_q1 = [w for w in q1words.keys() if w in q2words]\n",
        "    shared_words_in_q2 = [w for w in q2words.keys() if w in q1words]\n",
        "    R = (len(shared_words_in_q1) + len(shared_words_in_q2))/(len(q1words) + len(q2words))\n",
        "    \n",
        "    return R\n",
        "\n",
        "\n",
        "def tfidf_word_match_share(row):\n",
        "    q1words = {}\n",
        "    q2words = {}\n",
        "    for word in str(row['question1']).lower().split():\n",
        "        if word not in stops:\n",
        "            q1words[word] = 1\n",
        "    for word in str(row['question2']).lower().split():\n",
        "        if word not in stops:\n",
        "            q2words[word] = 1\n",
        "    if len(q1words) == 0 or len(q2words) == 0:\n",
        "        # The computer-generated chaff includes a few questions that are nothing but stopwords\n",
        "        return 0\n",
        "    \n",
        "    shared_weights = [weights.get(w, 0) for w in q1words.keys() if w in q2words] + [weights.get(w, 0) for w in q2words.keys() if w in q1words]\n",
        "    total_weights = [weights.get(w, 0) for w in q1words] + [weights.get(w, 0) for w in q2words]\n",
        "    \n",
        "    R = np.sum(shared_weights) / np.sum(total_weights)\n",
        "    return R\n",
        "\n",
        "  \n",
        "def sim_emb(q1_emb, q2_emb):\n",
        "  \n",
        "  if type(q1_emb) != np.ndarray or type(q2_emb) != np.ndarray:\n",
        "    return np.nan\n",
        "  \n",
        "  return cosine_similarity(q1_emb.reshape(1,-1), q2_emb.reshape(1,-1))[0][0]\n",
        "\n",
        "  \n",
        "  \n",
        "  \n",
        "  \n",
        "train_word_match = train.apply(word_match_share, axis=1, raw=True)\n",
        "\n",
        "tfidf_train_word_match = train.apply(tfidf_word_match_share, axis=1, raw=True)\n",
        "\n",
        "tfidf_similarity = train.apply(lambda row: sim_tfidf(row['q1_tfidf'], row['q2_tfidf']), axis=1, raw=True)\n",
        "\n",
        "emb_similarity = train.apply(lambda row: sim_emb(row['q1_emb'], row['q2_emb']), axis=1, raw=True)\n",
        "\n",
        "\n",
        "x_train = pd.DataFrame()\n",
        "x_train['word_match'] = train_word_match\n",
        "x_train['tfidf_word_match'] = tfidf_train_word_match\n",
        "x_train['tfidf_similarity'] = tfidf_similarity\n",
        "x_train['emb_similarity'] = emb_similarity\n",
        "x_train['q1_emb'] = train['q1_emb']\n",
        "x_train['q2_emb'] = train['q2_emb']\n",
        "x_train['id'] = train['id']\n",
        "x_train['is_duplicate'] = train['is_duplicate']\n",
        "\n",
        "x_train = x_train.dropna().reset_index(drop = True)\n",
        "\n",
        "y_train = x_train['is_duplicate'].values\n",
        "\n",
        "\n",
        "\n",
        "\n",
        "val_word_match = val.apply(word_match_share, axis=1, raw=True)\n",
        "tfidf_val_word_match = val.apply(tfidf_word_match_share, axis=1, raw=True)\n",
        "tfidf_val_similarity = val.apply(lambda row: sim_tfidf(row['q1_tfidf'], row['q2_tfidf']), axis=1, raw=True)\n",
        "\n",
        "emb_val_similarity = val.apply(lambda row: sim_emb(row['q1_emb'], row['q2_emb']), axis=1, raw=True)\n",
        "\n",
        "\n",
        "x_val = pd.DataFrame()\n",
        "x_val['word_match'] = val_word_match\n",
        "x_val['tfidf_word_match'] = tfidf_val_word_match\n",
        "x_val['tfidf_similarity'] = tfidf_val_similarity\n",
        "x_val['emb_similarity'] = emb_val_similarity\n",
        "x_val['q1_emb'] = val['q1_emb']\n",
        "x_val['q2_emb'] = val['q2_emb']\n",
        "x_val['is_duplicate'] = val['is_duplicate']\n",
        "x_val = x_val.dropna().reset_index(drop = True)\n",
        "\n",
        "y_val = x_val['is_duplicate'].values\n",
        "\n",
        "x_val['id'] = val['id']\n",
        "\n",
        "predictors=['word_match','tfidf_word_match', 'tfidf_similarity', 'emb_similarity']\n",
        "target='is_duplicate'\n",
        "\n",
        "\n",
        "X_train= x_train[predictors]\n",
        "y_train = x_train[target]\n",
        "X_val = x_val[predictors]\n",
        "#y_test = x_test[target]\n",
        "\n",
        "#X=np.array(X).reshape(-1,1)\n",
        "#y=np.array(y).reshape(-1,1)\n",
        "#X= X.tolist()\n",
        "#y= y.tolist()\n",
        "\n",
        "\n",
        "def calculate_logloss(y_true, y_pred):\n",
        "    loss_cal = log_loss(y_true, y_pred)\n",
        "    return loss_cal\n",
        "\n",
        "\n",
        "clf= RandomForestClassifier(n_estimators=500, criterion='gini', max_depth=None, min_samples_split=2, min_samples_leaf=100, min_weight_fraction_leaf=0.0, max_features='sqrt', max_leaf_nodes=None, bootstrap=True, oob_score=True, n_jobs=1, random_state=1, verbose=0, warm_start=False, class_weight=None)\n",
        "clf.fit(X_train,y_train)\n",
        "##\n",
        "accuracy=clf.score(X_val,y_val)\n",
        "print(\"Random Forest\",accuracy)"
      ],
      "execution_count": 23,
      "outputs": [
        {
          "output_type": "stream",
          "text": [
            "/usr/local/lib/python3.6/dist-packages/ipykernel_launcher.py:53: RuntimeWarning: invalid value encountered in long_scalars\n",
            "/usr/local/lib/python3.6/dist-packages/ipykernel_launcher.py:53: RuntimeWarning: invalid value encountered in double_scalars\n",
            "/usr/local/lib/python3.6/dist-packages/ipykernel_launcher.py:53: RuntimeWarning: invalid value encountered in long_scalars\n",
            "/usr/local/lib/python3.6/dist-packages/ipykernel_launcher.py:53: RuntimeWarning: invalid value encountered in double_scalars\n"
          ],
          "name": "stderr"
        },
        {
          "output_type": "stream",
          "text": [
            "Random Forest 0.743886252778976\n"
          ],
          "name": "stdout"
        },
        {
          "output_type": "error",
          "ename": "NameError",
          "evalue": "ignored",
          "traceback": [
            "\u001b[0;31m---------------------------------------------------------------------------\u001b[0m",
            "\u001b[0;31mNameError\u001b[0m                                 Traceback (most recent call last)",
            "\u001b[0;32m<ipython-input-23-eb7ff47d9d82>\u001b[0m in \u001b[0;36m<module>\u001b[0;34m()\u001b[0m\n\u001b[1;32m    138\u001b[0m \u001b[0maccuracy\u001b[0m\u001b[0;34m=\u001b[0m\u001b[0mclf\u001b[0m\u001b[0;34m.\u001b[0m\u001b[0mscore\u001b[0m\u001b[0;34m(\u001b[0m\u001b[0mX_val\u001b[0m\u001b[0;34m,\u001b[0m\u001b[0my_val\u001b[0m\u001b[0;34m)\u001b[0m\u001b[0;34m\u001b[0m\u001b[0;34m\u001b[0m\u001b[0m\n\u001b[1;32m    139\u001b[0m \u001b[0mprint\u001b[0m\u001b[0;34m(\u001b[0m\u001b[0;34m\"Random Forest\"\u001b[0m\u001b[0;34m,\u001b[0m\u001b[0maccuracy\u001b[0m\u001b[0;34m)\u001b[0m\u001b[0;34m\u001b[0m\u001b[0;34m\u001b[0m\u001b[0m\n\u001b[0;32m--> 140\u001b[0;31m \u001b[0mp\u001b[0m\u001b[0;34m=\u001b[0m\u001b[0mclf\u001b[0m\u001b[0;34m.\u001b[0m\u001b[0mpredict_proba\u001b[0m\u001b[0;34m(\u001b[0m\u001b[0mX_test\u001b[0m\u001b[0;34m)\u001b[0m\u001b[0;34m\u001b[0m\u001b[0;34m\u001b[0m\u001b[0m\n\u001b[0m",
            "\u001b[0;31mNameError\u001b[0m: name 'X_test' is not defined"
          ]
        }
      ]
    },
    {
      "cell_type": "markdown",
      "metadata": {
        "id": "52_N0TjtCb3t",
        "colab_type": "text"
      },
      "source": [
        "# 2. Siamese network \n",
        "https://towardsdatascience.com/one-shot-learning-with-siamese-networks-using-keras-17f34e75bb3d\n",
        "\n",
        "https://becominghuman.ai/siamese-networks-algorithm-applications-and-pytorch-implementation-4ffa3304c18"
      ]
    },
    {
      "cell_type": "markdown",
      "metadata": {
        "id": "LWiEVYt9DVyq",
        "colab_type": "text"
      },
      "source": [
        "## 2.1 Importing libraries and data"
      ]
    },
    {
      "cell_type": "code",
      "metadata": {
        "id": "_foU9I6-CD_J",
        "colab_type": "code",
        "colab": {}
      },
      "source": [
        "# importing libraries \n",
        "\n",
        "import nltk\n",
        "nltk.download('punkt')\n",
        "nltk.download('stopwords')\n",
        "from time import time\n",
        "import pandas as pd\n",
        "import numpy as np\n",
        "from gensim.models import KeyedVectors\n",
        "import re\n",
        "from nltk.corpus import stopwords\n",
        "from sklearn.model_selection import train_test_split\n",
        "import matplotlib.pyplot as plt\n",
        "import seaborn as sns\n",
        "\n",
        "import itertools\n",
        "import datetime\n",
        "\n",
        "from keras.preprocessing.sequence import pad_sequences\n",
        "from keras.models import Model\n",
        "from keras.layers import Input, Embedding, LSTM, Lambda\n",
        "import keras.backend as K\n",
        "from keras.optimizers import Adadelta\n",
        "from keras.callbacks import ModelCheckpoint\n",
        "\n",
        "# File paths\n",
        "TRAIN_CSV = '/content/gdrive/My Drive/KTH courses/P4/NLP Language processing/project/data/train.csv'\n",
        "TEST_CSV = '/content/gdrive/My Drive/KTH courses/P4/NLP Language processing/project/data/test.csv'\n",
        "EMBEDDING_FILE = '/content/gdrive/My Drive/KTH courses/P4/NLP Language processing/project/data/GoogleNews-vectors-negative300.bin.gz'\n",
        "MODEL_SAVING_DIR = '/content/gdrive/My Drive/KTH courses/P4/NLP Language processing/project/Models/malstm_trained.h5'\n",
        "\n",
        "# Load training and test set\n",
        "train_df = pd.read_csv(TRAIN_CSV)\n",
        "#test_df = pd.read_csv(TRAIN_CSV)\n",
        "test_df = train_df[:1000]\n",
        "\n",
        "stops = set(stopwords.words('english'))"
      ],
      "execution_count": 0,
      "outputs": []
    },
    {
      "cell_type": "code",
      "metadata": {
        "id": "5374y42CCZn3",
        "colab_type": "code",
        "colab": {}
      },
      "source": [
        "# Create embedding matrix\n",
        "\n",
        "def text_to_word_list(text):\n",
        "    ''' Pre process and convert texts to a list of words '''\n",
        "    \n",
        "    text = str(text)\n",
        "    text = text.lower()\n",
        "\n",
        "    # Clean the text\n",
        "    text = re.sub(r\"[^A-Za-z0-9^,!.\\/'+-=]\", \" \", text) #delete special characters\n",
        "    text = re.sub(r\"what's\", \"what is \", text) # replace what's by what is\n",
        "    text = re.sub(r\"\\'s\", \" \", text)\n",
        "    text = re.sub(r\"\\'ve\", \" have \", text)\n",
        "    text = re.sub(r\"can't\", \"cannot \", text)\n",
        "    text = re.sub(r\"n't\", \" not \", text)\n",
        "    text = re.sub(r\"i'm\", \"i am \", text)\n",
        "    text = re.sub(r\"\\'re\", \" are \", text)\n",
        "    text = re.sub(r\"\\'d\", \" would \", text)\n",
        "    text = re.sub(r\"\\'ll\", \" will \", text)\n",
        "    text = re.sub(r\",\", \" \", text)\n",
        "    text = re.sub(r\"\\.\", \" \", text)\n",
        "    text = re.sub(r\"!\", \" ! \", text)\n",
        "    text = re.sub(r\"\\/\", \" \", text)\n",
        "    text = re.sub(r\"\\^\", \" ^ \", text)\n",
        "    text = re.sub(r\"\\+\", \" + \", text)\n",
        "    text = re.sub(r\"\\-\", \" - \", text)\n",
        "    text = re.sub(r\"\\=\", \" = \", text)\n",
        "    text = re.sub(r\"'\", \" \", text)\n",
        "    text = re.sub(r\"(\\d+)(k)\", r\"\\g<1>000\", text)\n",
        "    text = re.sub(r\":\", \" : \", text)\n",
        "    text = re.sub(r\" e g \", \" eg \", text)\n",
        "    text = re.sub(r\" b g \", \" bg \", text)\n",
        "    text = re.sub(r\" u s \", \" american \", text)\n",
        "    text = re.sub(r\"\\0s\", \"0\", text)\n",
        "    text = re.sub(r\" 9 11 \", \"911\", text)\n",
        "    text = re.sub(r\"e - mail\", \"email\", text)\n",
        "    text = re.sub(r\"j k\", \"jk\", text)\n",
        "    text = re.sub(r\"\\s{2,}\", \" \", text)\n",
        "\n",
        "    text = text.split()\n",
        "\n",
        "    return text\n",
        "\n",
        "# Prepare embedding\n",
        "vocabulary = dict()\n",
        "inverse_vocabulary = ['<unk>']  # '<unk>' will never be used, it is only a placeholder for the [0, 0, ....0] embedding\n",
        "word2vec = KeyedVectors.load_word2vec_format(EMBEDDING_FILE, binary=True)\n",
        "\n",
        "questions_cols = ['question1', 'question2']\n",
        "\n",
        "# Iterate over the questions only of both training and test datasets\n",
        "for dataset in [train_df, test_df]:\n",
        "    for index, row in dataset.iterrows():\n",
        "\n",
        "        # Iterate through the text of both questions of the row\n",
        "        for question in questions_cols:\n",
        "\n",
        "            q2n = []  # q2n -> question numbers representation\n",
        "            for word in text_to_word_list(row[question]):\n",
        "\n",
        "                # Check for unwanted words\n",
        "                if word in stops and word not in word2vec.vocab:\n",
        "                    continue\n",
        "\n",
        "                if word not in vocabulary:\n",
        "                    vocabulary[word] = len(inverse_vocabulary)\n",
        "                    q2n.append(len(inverse_vocabulary))\n",
        "                    inverse_vocabulary.append(word)\n",
        "                else:\n",
        "                    q2n.append(vocabulary[word])\n",
        "\n",
        "            # Replace questions as word to question as number representation\n",
        "            dataset.set_value(index, question, q2n)\n",
        "            \n",
        "embedding_dim = 300\n",
        "embeddings = 1 * np.random.randn(len(vocabulary) + 1, embedding_dim)  # This will be the embedding matrix\n",
        "embeddings[0] = 0  # So that the padding will be ignored\n",
        "\n",
        "# Build the embedding matrix\n",
        "for word, index in vocabulary.items():\n",
        "    if word in word2vec.vocab:\n",
        "        embeddings[index] = word2vec.word_vec(word)\n",
        "\n",
        "del word2vec\n"
      ],
      "execution_count": 0,
      "outputs": []
    },
    {
      "cell_type": "code",
      "metadata": {
        "id": "VlVx-AEoCZ9T",
        "colab_type": "code",
        "colab": {}
      },
      "source": [
        "max_seq_length = max(train_df.question1.map(lambda x: len(x)).max(),\n",
        "                     train_df.question2.map(lambda x: len(x)).max(),\n",
        "                     test_df.question1.map(lambda x: len(x)).max(),\n",
        "                     test_df.question2.map(lambda x: len(x)).max())\n",
        "\n",
        "# Split to train validation\n",
        "validation_size = 40000\n",
        "training_size = len(train_df) - validation_size\n",
        "\n",
        "X = train_df[questions_cols]\n",
        "Y = train_df['is_duplicate']\n",
        "\n",
        "X_train, X_validation, Y_train, Y_validation = train_test_split(X, Y, test_size=validation_size)\n",
        "\n",
        "# Split to dicts\n",
        "X_train = {'left': X_train.question1, 'right': X_train.question2}\n",
        "X_validation = {'left': X_validation.question1, 'right': X_validation.question2}\n",
        "X_test = {'left': test_df.question1, 'right': test_df.question2}\n",
        "\n",
        "# Convert labels to their numpy representations\n",
        "Y_train = Y_train.values\n",
        "Y_validation = Y_validation.values\n",
        "\n",
        "# Zero padding\n",
        "for dataset, side in itertools.product([X_train, X_validation], ['left', 'right']):\n",
        "    dataset[side] = pad_sequences(dataset[side], maxlen=max_seq_length)\n",
        "\n",
        "# Make sure everything is ok\n",
        "assert X_train['left'].shape == X_train['right'].shape\n",
        "assert len(X_train['left']) == len(Y_train)\n"
      ],
      "execution_count": 0,
      "outputs": []
    },
    {
      "cell_type": "code",
      "metadata": {
        "id": "WdNy-Y8GCaUo",
        "colab_type": "code",
        "colab": {}
      },
      "source": [
        "# Build the model\n",
        "\n",
        "\n",
        "# Model variables\n",
        "n_hidden = 50\n",
        "gradient_clipping_norm = 1.25\n",
        "batch_size = 100 # prevously 64\n",
        "n_epoch = 25\n",
        "\n",
        "def exponent_neg_manhattan_distance(left, right):\n",
        "    ''' Helper function for the similarity estimate of the LSTMs outputs'''\n",
        "    return K.exp(-K.sum(K.abs(left-right), axis=1, keepdims=True))\n",
        "\n",
        "# The visible layer\n",
        "left_input = Input(shape=(max_seq_length,), dtype='int32')\n",
        "right_input = Input(shape=(max_seq_length,), dtype='int32')\n",
        "\n",
        "embedding_layer = Embedding(len(embeddings), embedding_dim, weights=[embeddings], input_length=max_seq_length, trainable=False)\n",
        "\n",
        "# Embedded version of the inputs\n",
        "encoded_left = embedding_layer(left_input)\n",
        "encoded_right = embedding_layer(right_input)\n",
        "\n",
        "# Since this is a siamese network, both sides share the same LSTM\n",
        "shared_lstm = LSTM(n_hidden)\n",
        "\n",
        "left_output = shared_lstm(encoded_left)\n",
        "right_output = shared_lstm(encoded_right)\n",
        "\n",
        "# Calculates the distance as defined by the MaLSTM model\n",
        "malstm_distance = Lambda(function=lambda x: exponent_neg_manhattan_distance(x[0], x[1]),output_shape=lambda x: (x[0][0], 1))([left_output, right_output])\n",
        "\n",
        "# Pack it all up into a model\n",
        "malstm = Model([left_input, right_input], [malstm_distance])\n",
        "\n",
        "# Adadelta optimizer, with gradient clipping by norm\n",
        "optimizer = Adadelta(clipnorm=gradient_clipping_norm)\n",
        "\n",
        "malstm.compile(loss='mean_squared_error', optimizer=optimizer, metrics=['accuracy'])\n",
        "\n",
        "# Start training\n",
        "training_start_time = time()\n",
        "\n",
        "malstm_trained = malstm.fit([X_train['left'], X_train['right']], Y_train, batch_size=batch_size, nb_epoch=n_epoch,\n",
        "                            validation_data=([X_validation['left'], X_validation['right']], Y_validation))\n",
        "\n",
        "print(\"Training time finished.\\n{} epochs in {}\".format(n_epoch, datetime.timedelta(seconds=time()-training_start_time)))\n",
        "\n",
        "\n",
        "\n",
        "malstm_trained.save(MODEL_SAVING_DIR)  # creates a HDF5 file 'my_model.h5'\n",
        "# del model  # deletes the existing model\n",
        "\n",
        "\n"
      ],
      "execution_count": 0,
      "outputs": []
    },
    {
      "cell_type": "code",
      "metadata": {
        "id": "n6wiaU6vCaqm",
        "colab_type": "code",
        "colab": {}
      },
      "source": [
        "from keras.models import load_model\n",
        "# returns a compiled model\n",
        "# identical to the previous one\n",
        "model = load_model('my_model.h5')"
      ],
      "execution_count": 0,
      "outputs": []
    },
    {
      "cell_type": "code",
      "metadata": {
        "id": "3h1rRLNcCa7O",
        "colab_type": "code",
        "colab": {}
      },
      "source": [
        "# Plotting the results\n",
        "\n",
        "\n",
        "# Plot accuracy\n",
        "plt.plot(malstm_trained.history['acc'])\n",
        "plt.plot(malstm_trained.history['val_acc'])\n",
        "plt.title('Model Accuracy')\n",
        "plt.ylabel('Accuracy')\n",
        "plt.xlabel('Epoch')\n",
        "plt.legend(['Train', 'Validation'], loc='upper left')\n",
        "plt.show()\n",
        "\n",
        "# Plot loss\n",
        "plt.plot(malstm_trained.history['loss'])\n",
        "plt.plot(malstm_trained.history['val_loss'])\n",
        "plt.title('Model Loss')\n",
        "plt.ylabel('Loss')\n",
        "plt.xlabel('Epoch')\n",
        "plt.legend(['Train', 'Validation'], loc='upper right')\n",
        "plt.show()\n",
        "\n"
      ],
      "execution_count": 0,
      "outputs": []
    },
    {
      "cell_type": "markdown",
      "metadata": {
        "id": "HgYE25IBEaTH",
        "colab_type": "text"
      },
      "source": [
        "# 3. GRU Deep Model\n",
        "\n",
        "Inspired by this Network Architecture\n",
        "\n",
        "https://www.linkedin.com/pulse/duplicate-quora-question-abhishek-thakur/"
      ]
    },
    {
      "cell_type": "code",
      "metadata": {
        "id": "_Ysw2dOfCbPQ",
        "colab_type": "code",
        "colab": {}
      },
      "source": [
        "# Create embedding matrix\n",
        "\n",
        "def text_to_word_list(text):\n",
        "    ''' Pre process and convert texts to a list of words '''\n",
        "    \n",
        "    text = str(text)\n",
        "    text = text.lower()\n",
        "\n",
        "    # Clean the text\n",
        "    text = re.sub(r\"[^A-Za-z0-9^,!.\\/'+-=]\", \" \", text) #delete special characters\n",
        "    text = re.sub(r\"what's\", \"what is \", text) # replace what's by what is\n",
        "    text = re.sub(r\"\\'s\", \" \", text)\n",
        "    text = re.sub(r\"\\'ve\", \" have \", text)\n",
        "    text = re.sub(r\"can't\", \"cannot \", text)\n",
        "    text = re.sub(r\"n't\", \" not \", text)\n",
        "    text = re.sub(r\"i'm\", \"i am \", text)\n",
        "    text = re.sub(r\"\\'re\", \" are \", text)\n",
        "    text = re.sub(r\"\\'d\", \" would \", text)\n",
        "    text = re.sub(r\"\\'ll\", \" will \", text)\n",
        "    text = re.sub(r\",\", \" \", text)\n",
        "    text = re.sub(r\"\\.\", \" \", text)\n",
        "    text = re.sub(r\"!\", \" ! \", text)\n",
        "    text = re.sub(r\"\\/\", \" \", text)\n",
        "    text = re.sub(r\"\\^\", \" ^ \", text)\n",
        "    text = re.sub(r\"\\+\", \" + \", text)\n",
        "    text = re.sub(r\"\\-\", \" - \", text)\n",
        "    text = re.sub(r\"\\=\", \" = \", text)\n",
        "    text = re.sub(r\"'\", \" \", text)\n",
        "    text = re.sub(r\"(\\d+)(k)\", r\"\\g<1>000\", text)\n",
        "    text = re.sub(r\":\", \" : \", text)\n",
        "    text = re.sub(r\" e g \", \" eg \", text)\n",
        "    text = re.sub(r\" b g \", \" bg \", text)\n",
        "    text = re.sub(r\" u s \", \" american \", text)\n",
        "    text = re.sub(r\"\\0s\", \"0\", text)\n",
        "    text = re.sub(r\" 9 11 \", \"911\", text)\n",
        "    text = re.sub(r\"e - mail\", \"email\", text)\n",
        "    text = re.sub(r\"j k\", \"jk\", text)\n",
        "    text = re.sub(r\"\\s{2,}\", \" \", text)\n",
        "\n",
        "    text = text.split()\n",
        "\n",
        "    return text\n",
        "\n",
        "# Prepare embedding\n",
        "vocabulary = dict()\n",
        "inverse_vocabulary = ['<unk>']  # '<unk>' will never be used, it is only a placeholder for the [0, 0, ....0] embedding\n",
        "word2vec = KeyedVectors.load_word2vec_format(EMBEDDING_FILE, binary=True)\n",
        "\n",
        "questions_cols = ['q1_tokens', 'q2_tokens']\n",
        "\n",
        "# Iterate over the questions only of both training and test datasets\n",
        "for dataset in [train, val, test]:\n",
        "    for index, row in dataset.iterrows():\n",
        "\n",
        "        # Iterate through the text of both questions of the row\n",
        "        for question in questions_cols:\n",
        "          \n",
        "            if type(row[question]) != float:\n",
        "\n",
        "              for word in row[question]:\n",
        "\n",
        "                  # Check for unwanted words\n",
        "                  if word not in word2vec.vocab:\n",
        "                      continue\n",
        "\n",
        "                  if word not in vocabulary:\n",
        "                      vocabulary[word] = len(inverse_vocabulary)\n",
        "                      inverse_vocabulary.append(word)\n",
        "            # Replace questions as word to question as number representation\n",
        "              q2n = [vocabulary[w] for w in row[question] if w in vocabulary]\n",
        "            else:\n",
        "              q2n = []\n",
        "              \n",
        "            dataset.set_value(index, question, q2n)\n",
        "            \n",
        "embedding_dim = 300\n",
        "embeddings = 1 * np.random.randn(len(vocabulary) + 1, embedding_dim)  # This will be the embedding matrix\n",
        "embeddings[0] = 0  # So that the padding will be ignored\n",
        "\n",
        "# Build the embedding matrix\n",
        "for word, index in vocabulary.items():\n",
        "    if word in word2vec.vocab:\n",
        "        embeddings[index] = word2vec.word_vec(word)\n",
        "\n",
        "del word2vec\n"
      ],
      "execution_count": 0,
      "outputs": []
    },
    {
      "cell_type": "code",
      "metadata": {
        "id": "WTsVdSYWHYA4",
        "colab_type": "code",
        "colab": {}
      },
      "source": [
        "# create training and validation set for keras model\n",
        "\n",
        "max_seq_length = max(train.q1_tokens.map(lambda x: len(x)).max(),\n",
        "                     train.q2_tokens.map(lambda x: len(x)).max(),\n",
        "                     val.q1_tokens.map(lambda x: len(x)).max(),\n",
        "                     val.q2_tokens.map(lambda x: len(x)).max())\n",
        "\n",
        "\n",
        "X_train = train[questions_cols]\n",
        "Y_train = train['is_duplicate']\n",
        "\n",
        "X_validation = val[questions_cols]\n",
        "Y_validation = val['is_duplicate']\n",
        "\n",
        "# Split to dicts\n",
        "X_train = {'left': X_train.q1_tokens, 'right': X_train.q2_tokens}\n",
        "X_validation = {'left': X_validation.q1_tokens, 'right': X_validation.q2_tokens}\n",
        "# X_test = {'left': test.q1_tokens, 'right': test.q2_tokens}\n",
        "\n",
        "# Convert labels to their numpy representations\n",
        "Y_train = Y_train.values\n",
        "Y_validation = Y_validation.values\n",
        "\n",
        "# Zero padding\n",
        "for dataset, side in itertools.product([X_train, X_validation], ['left', 'right']):\n",
        "    dataset[side] = pad_sequences(dataset[side], maxlen=max_seq_length)\n",
        "\n",
        "# Make sure everything is ok\n",
        "assert X_train['left'].shape == X_train['right'].shape\n",
        "assert len(X_train['left']) == len(Y_train)"
      ],
      "execution_count": 0,
      "outputs": []
    },
    {
      "cell_type": "code",
      "metadata": {
        "id": "5_ta9F7kHZjQ",
        "colab_type": "code",
        "colab": {}
      },
      "source": [
        "from keras.models import Model\n",
        "from keras.layers.recurrent import GRU\n",
        "from keras.layers.normalization import BatchNormalization\n",
        "from keras.layers import Input, Dense\n",
        "from keras.layers import Dropout, Flatten, Embedding\n",
        "import keras\n",
        "\n",
        "\n",
        "def define_network(embeddings, max_seq_length):\n",
        "\n",
        "\n",
        "    input_1 = Input((max_seq_length,), dtype = 'int32', name = 'q1_input') # Input question 1\n",
        "    input_2 = Input((max_seq_length,), dtype = 'int32', name = 'q2_input') # Input question 2\n",
        "\n",
        "    embedding_layer = Embedding(len(embeddings), 300, weights=[embeddings], input_length=max_seq_length, trainable=False)\n",
        "    \n",
        "    embd_1 = embedding_layer(input_1)\n",
        "    embd_2 = embedding_layer(input_2)\n",
        "    \n",
        "    gru_shared_layer = GRU(300, dropout = 0.2, recurrent_dropout = 0.2, name = 'GRU_common')\n",
        "    gru_1 = gru_shared_layer(embd_1)\n",
        "    gru_2 = gru_shared_layer(embd_2)\n",
        "\n",
        "    merge = keras.layers.merge.concatenate([gru_1, gru_2])\n",
        "    \n",
        "    bn = BatchNormalization()(merge)\n",
        "    dense = Dense(300, activation = 'relu', name = \"relu_dense\")(bn)\n",
        "    drop = Dropout(0.2)(dense)\n",
        "    bn2 = BatchNormalization()(drop)\n",
        "    output = Dense(1, activation = 'sigmoid', name = 'output_dense')(bn2)\n",
        "\n",
        "\n",
        "    model = Model(inputs = [input_1, input_2], outputs = output)\n",
        "    model.compile(loss='binary_crossentropy', optimizer='adam', metrics=['accuracy'])\n",
        "\n",
        "    return model"
      ],
      "execution_count": 0,
      "outputs": []
    },
    {
      "cell_type": "code",
      "metadata": {
        "id": "tdsxEB1XHbpu",
        "colab_type": "code",
        "colab": {}
      },
      "source": [
        "batch_size = 64\n",
        "n_epoch = 20"
      ],
      "execution_count": 0,
      "outputs": []
    },
    {
      "cell_type": "code",
      "metadata": {
        "id": "YWzZFseoHcYt",
        "colab_type": "code",
        "colab": {}
      },
      "source": [
        "model = define_network(embeddings, max_seq_length)\n",
        "\n",
        "history = model.fit([X_train['left'], X_train['right']], Y_train, batch_size = batch_size,\n",
        "                    epochs = n_epoch, validation_data = ([X_validation['right'], X_validation['left']], Y_validation))\n",
        "\n",
        "model.save('model_alex.h5')"
      ],
      "execution_count": 0,
      "outputs": []
    },
    {
      "cell_type": "code",
      "metadata": {
        "id": "k7ohGQTqHoQX",
        "colab_type": "code",
        "colab": {}
      },
      "source": [
        "# analysis results + plots"
      ],
      "execution_count": 0,
      "outputs": []
    }
  ]
}