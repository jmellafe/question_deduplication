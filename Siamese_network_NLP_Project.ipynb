{
  "nbformat": 4,
  "nbformat_minor": 0,
  "metadata": {
    "colab": {
      "name": "Siamese_network_NLP_Project.ipynb",
      "version": "0.3.2",
      "provenance": [],
      "collapsed_sections": [],
      "include_colab_link": true
    },
    "kernelspec": {
      "name": "python3",
      "display_name": "Python 3"
    },
    "accelerator": "GPU"
  },
  "cells": [
    {
      "cell_type": "markdown",
      "metadata": {
        "id": "view-in-github",
        "colab_type": "text"
      },
      "source": [
        "<a href=\"https://colab.research.google.com/github/jmellafe/question_deduplication/blob/master/Siamese_network_NLP_Project.ipynb\" target=\"_parent\"><img src=\"https://colab.research.google.com/assets/colab-badge.svg\" alt=\"Open In Colab\"/></a>"
      ]
    },
    {
      "cell_type": "markdown",
      "metadata": {
        "id": "JEY4ysnV_5LG",
        "colab_type": "text"
      },
      "source": [
        "#Importing and Exploring the dataset\n",
        "\n",
        "\n"
      ]
    },
    {
      "cell_type": "code",
      "metadata": {
        "id": "wv6-6PvFjQtt",
        "colab_type": "code",
        "outputId": "03371923-3d39-4d9a-d90c-9b8c8dbf7e76",
        "colab": {
          "base_uri": "https://localhost:8080/",
          "height": 86
        }
      },
      "source": [
        "import numpy as np\n",
        "np.random.seed(2018)\n",
        "from collections import Counter\n",
        "import pandas as pd\n",
        "import seaborn as sns\n",
        "from matplotlib import pyplot as plt\n",
        "\n",
        "from sklearn.metrics import log_loss\n",
        "from sklearn.metrics import roc_auc_score, confusion_matrix\n",
        "\n",
        "#Loading gensim and nltk libraries\n",
        "\n",
        "import gensim\n",
        "from gensim.utils import simple_preprocess\n",
        "from gensim.parsing.preprocessing import STOPWORDS\n",
        "from gensim import corpora, models\n",
        "from gensim.corpora import Dictionary\n",
        "\n",
        "import nltk\n",
        "from nltk.stem import WordNetLemmatizer, SnowballStemmer\n",
        "from nltk.stem.porter import *\n",
        "from nltk.tokenize import word_tokenize\n",
        "from nltk.corpus import stopwords\n",
        "from nltk.corpus import stopwords\n",
        "nltk.download('punkt')\n",
        "nltk.download('wordnet')\n",
        "\n",
        "\n",
        "# File paths\n",
        "TRAIN_CSV = '/content/gdrive/My Drive/KTH courses/P4/NLP Language processing/project/data/train.csv'\n",
        "TEST_CSV = '/content/gdrive/My Drive/KTH courses/P4/NLP Language processing/project/data/test.csv'\n",
        "EMBEDDING_FILE = '/content/gdrive/My Drive/KTH courses/P4/NLP Language processing/project/data/GoogleNews-vectors-negative300.bin.gz'\n",
        "MODEL_SAVING_DIR = '/content/gdrive/My Drive/KTH courses/P4/NLP Language processing/project/Models/my_model.h5'\n"
      ],
      "execution_count": 1,
      "outputs": [
        {
          "output_type": "stream",
          "text": [
            "[nltk_data] Downloading package punkt to /root/nltk_data...\n",
            "[nltk_data]   Unzipping tokenizers/punkt.zip.\n",
            "[nltk_data] Downloading package wordnet to /root/nltk_data...\n",
            "[nltk_data]   Unzipping corpora/wordnet.zip.\n"
          ],
          "name": "stdout"
        }
      ]
    },
    {
      "cell_type": "code",
      "metadata": {
        "id": "Lun2stY2Vodz",
        "colab_type": "code",
        "outputId": "2fc9831b-f681-48f1-9047-4a75a7f1afa8",
        "colab": {
          "base_uri": "https://localhost:8080/",
          "height": 124
        }
      },
      "source": [
        "# import data from the drive \n",
        "\n",
        "from google.colab import drive\n",
        "drive.mount('/content/gdrive', force_remount=True)\n"
      ],
      "execution_count": 2,
      "outputs": [
        {
          "output_type": "stream",
          "text": [
            "Go to this URL in a browser: https://accounts.google.com/o/oauth2/auth?client_id=947318989803-6bn6qk8qdgf4n4g3pfee6491hc0brc4i.apps.googleusercontent.com&redirect_uri=urn%3Aietf%3Awg%3Aoauth%3A2.0%3Aoob&scope=email%20https%3A%2F%2Fwww.googleapis.com%2Fauth%2Fdocs.test%20https%3A%2F%2Fwww.googleapis.com%2Fauth%2Fdrive%20https%3A%2F%2Fwww.googleapis.com%2Fauth%2Fdrive.photos.readonly%20https%3A%2F%2Fwww.googleapis.com%2Fauth%2Fpeopleapi.readonly&response_type=code\n",
            "\n",
            "Enter your authorization code:\n",
            "··········\n",
            "Mounted at /content/gdrive\n"
          ],
          "name": "stdout"
        }
      ]
    },
    {
      "cell_type": "code",
      "metadata": {
        "id": "GzKxwuH0jZlV",
        "colab_type": "code",
        "outputId": "edd0f276-7317-4122-f97f-268bb24c8bdc",
        "colab": {
          "base_uri": "https://localhost:8080/",
          "height": 206
        }
      },
      "source": [
        "# Hend data importing cell \n",
        "\n",
        "df = pd.read_csv(TRAIN_CSV)\n",
        "df.head()"
      ],
      "execution_count": 3,
      "outputs": [
        {
          "output_type": "execute_result",
          "data": {
            "text/html": [
              "<div>\n",
              "<style scoped>\n",
              "    .dataframe tbody tr th:only-of-type {\n",
              "        vertical-align: middle;\n",
              "    }\n",
              "\n",
              "    .dataframe tbody tr th {\n",
              "        vertical-align: top;\n",
              "    }\n",
              "\n",
              "    .dataframe thead th {\n",
              "        text-align: right;\n",
              "    }\n",
              "</style>\n",
              "<table border=\"1\" class=\"dataframe\">\n",
              "  <thead>\n",
              "    <tr style=\"text-align: right;\">\n",
              "      <th></th>\n",
              "      <th>id</th>\n",
              "      <th>qid1</th>\n",
              "      <th>qid2</th>\n",
              "      <th>question1</th>\n",
              "      <th>question2</th>\n",
              "      <th>is_duplicate</th>\n",
              "    </tr>\n",
              "  </thead>\n",
              "  <tbody>\n",
              "    <tr>\n",
              "      <th>0</th>\n",
              "      <td>0</td>\n",
              "      <td>1</td>\n",
              "      <td>2</td>\n",
              "      <td>What is the step by step guide to invest in sh...</td>\n",
              "      <td>What is the step by step guide to invest in sh...</td>\n",
              "      <td>0</td>\n",
              "    </tr>\n",
              "    <tr>\n",
              "      <th>1</th>\n",
              "      <td>1</td>\n",
              "      <td>3</td>\n",
              "      <td>4</td>\n",
              "      <td>What is the story of Kohinoor (Koh-i-Noor) Dia...</td>\n",
              "      <td>What would happen if the Indian government sto...</td>\n",
              "      <td>0</td>\n",
              "    </tr>\n",
              "    <tr>\n",
              "      <th>2</th>\n",
              "      <td>2</td>\n",
              "      <td>5</td>\n",
              "      <td>6</td>\n",
              "      <td>How can I increase the speed of my internet co...</td>\n",
              "      <td>How can Internet speed be increased by hacking...</td>\n",
              "      <td>0</td>\n",
              "    </tr>\n",
              "    <tr>\n",
              "      <th>3</th>\n",
              "      <td>3</td>\n",
              "      <td>7</td>\n",
              "      <td>8</td>\n",
              "      <td>Why am I mentally very lonely? How can I solve...</td>\n",
              "      <td>Find the remainder when [math]23^{24}[/math] i...</td>\n",
              "      <td>0</td>\n",
              "    </tr>\n",
              "    <tr>\n",
              "      <th>4</th>\n",
              "      <td>4</td>\n",
              "      <td>9</td>\n",
              "      <td>10</td>\n",
              "      <td>Which one dissolve in water quikly sugar, salt...</td>\n",
              "      <td>Which fish would survive in salt water?</td>\n",
              "      <td>0</td>\n",
              "    </tr>\n",
              "  </tbody>\n",
              "</table>\n",
              "</div>"
            ],
            "text/plain": [
              "   id  qid1  ...                                          question2 is_duplicate\n",
              "0   0     1  ...  What is the step by step guide to invest in sh...            0\n",
              "1   1     3  ...  What would happen if the Indian government sto...            0\n",
              "2   2     5  ...  How can Internet speed be increased by hacking...            0\n",
              "3   3     7  ...  Find the remainder when [math]23^{24}[/math] i...            0\n",
              "4   4     9  ...            Which fish would survive in salt water?            0\n",
              "\n",
              "[5 rows x 6 columns]"
            ]
          },
          "metadata": {
            "tags": []
          },
          "execution_count": 3
        }
      ]
    },
    {
      "cell_type": "code",
      "metadata": {
        "id": "ul5cq6gvchQ_",
        "colab_type": "code",
        "colab": {}
      },
      "source": [
        "# Shuffle the data\n",
        "\n",
        "df = df.sample(frac=1, random_state = 0).reset_index(drop=True)\n",
        "\n",
        "# Create train, validation and test datasets\n",
        "train_portion = 0.7\n",
        "val_portion = 0.15\n",
        "test_portion = 0.15\n",
        "\n",
        "train_idx = int(train_portion * df.shape[0])\n",
        "val_idx = int((train_portion + val_portion) * df.shape[0])\n",
        "\n",
        "train = df[:train_idx]\n",
        "val = df[train_idx:val_idx]\n",
        "test = df[val_idx:]"
      ],
      "execution_count": 0,
      "outputs": []
    },
    {
      "cell_type": "code",
      "metadata": {
        "id": "BUbYoSkBkU9-",
        "colab_type": "code",
        "outputId": "4bd0d106-4aa7-4648-b16b-c3d044dc00f9",
        "colab": {
          "base_uri": "https://localhost:8080/",
          "height": 315
        }
      },
      "source": [
        "is_dup = train['is_duplicate'].value_counts()\n",
        "print(\"Class 0: \", is_dup[0], \" Class1: \", is_dup[1])\n",
        "plt.figure(figsize=(8,4))\n",
        "sns.barplot(is_dup.index, is_dup.values, alpha=0.8)\n",
        "plt.ylabel('Number of Occurrences', fontsize=12)\n",
        "plt.xlabel('Is Duplicate', fontsize=12)\n",
        "plt.title('Checking the balance of the classes')\n",
        "plt.show()"
      ],
      "execution_count": 5,
      "outputs": [
        {
          "output_type": "stream",
          "text": [
            "Class 0:  178510  Class1:  104493\n"
          ],
          "name": "stdout"
        },
        {
          "output_type": "display_data",
          "data": {
            "image/png": "[encoded data removed]",
            "text/plain": [
              "<Figure size 576x288 with 1 Axes>"
            ]
          },
          "metadata": {
            "tags": []
          }
        }
      ]
    },
    {
      "cell_type": "code",
      "metadata": {
        "id": "NWWWAv5qkjSb",
        "colab_type": "code",
        "colab": {}
      },
      "source": [
        "# balancing the training set\n",
        "class0 = train[train['is_duplicate']==0].sample(n=is_dup[1], random_state=1)\n",
        "class1 = train[train['is_duplicate']==1]\n",
        "train = pd.concat([class0, class1])\n",
        "train = train.sample(frac=1, random_state = 0).reset_index(drop=True)\n"
      ],
      "execution_count": 0,
      "outputs": []
    },
    {
      "cell_type": "code",
      "metadata": {
        "id": "liFiiysefVv3",
        "colab_type": "code",
        "outputId": "9191bd7f-a43f-4ca1-a8bf-d7d5e2396958",
        "colab": {
          "base_uri": "https://localhost:8080/",
          "height": 330
        }
      },
      "source": [
        "\n",
        "# HIstogram number of words\n",
        "\n",
        "temp = train['question1'].apply(lambda x: len(x.split()) if type(x) == str else np.nan)\n",
        "\n",
        "temp2 = train['question2'].apply(lambda x: len(x.split()) if type(x) == str else np.nan)\n",
        "\n",
        "temp = pd.concat([temp, temp2]).dropna()\n",
        "\n",
        "sns.distplot(temp, kde=False)\n",
        "plt.legend()\n",
        "plt.title(\"Distribution number of words in questions\")\n",
        "plt.xlabel(\"Number of words\")\n",
        "plt.ylabel(\"frequency\")\n",
        "\n",
        "plt.show()\n",
        "plt.clf()\n"
      ],
      "execution_count": 7,
      "outputs": [
        {
          "output_type": "stream",
          "text": [
            "No handles with labels found to put in legend.\n"
          ],
          "name": "stderr"
        },
        {
          "output_type": "display_data",
          "data": {
            "image/png": "[encoded data removed]",
            "text/plain": [
              "<Figure size 432x288 with 1 Axes>"
            ]
          },
          "metadata": {
            "tags": []
          }
        },
        {
          "output_type": "display_data",
          "data": {
            "text/plain": [
              "<Figure size 432x288 with 0 Axes>"
            ]
          },
          "metadata": {
            "tags": []
          }
        }
      ]
    },
    {
      "cell_type": "code",
      "metadata": {
        "id": "czuVn_IxhszT",
        "colab_type": "code",
        "outputId": "06ca60a9-a0bb-4fec-f03a-8bee7a9707a3",
        "colab": {
          "base_uri": "https://localhost:8080/",
          "height": 330
        }
      },
      "source": [
        "# detail same plot\n",
        "sns.distplot(temp[temp < 50], kde=False)\n",
        "plt.legend()\n",
        "plt.title(\"Distribution number of words in questions\")\n",
        "plt.xlabel(\"Number of words\")\n",
        "plt.ylabel(\"frequency\")\n",
        "\n",
        "plt.show()\n",
        "plt.clf()"
      ],
      "execution_count": 8,
      "outputs": [
        {
          "output_type": "stream",
          "text": [
            "No handles with labels found to put in legend.\n"
          ],
          "name": "stderr"
        },
        {
          "output_type": "display_data",
          "data": {
            "image/png": "[encoded data removed]",
            "text/plain": [
              "<Figure size 432x288 with 1 Axes>"
            ]
          },
          "metadata": {
            "tags": []
          }
        },
        {
          "output_type": "display_data",
          "data": {
            "text/plain": [
              "<Figure size 432x288 with 0 Axes>"
            ]
          },
          "metadata": {
            "tags": []
          }
        }
      ]
    },
    {
      "cell_type": "markdown",
      "metadata": {
        "id": "JlVcTAZfY58O",
        "colab_type": "text"
      },
      "source": [
        "# Siamese network "
      ]
    },
    {
      "cell_type": "markdown",
      "metadata": {
        "id": "Y8-Y0X0FYEpu",
        "colab_type": "text"
      },
      "source": [
        "## 1 Importing libraries "
      ]
    },
    {
      "cell_type": "code",
      "metadata": {
        "id": "94jFpREgAVU3",
        "colab_type": "code",
        "outputId": "0003b04e-4830-4c28-f8a7-fae8ba0a8cc7",
        "colab": {
          "base_uri": "https://localhost:8080/",
          "height": 104
        }
      },
      "source": [
        "# importing libraries \n",
        "\n",
        "import nltk\n",
        "nltk.download('punkt')\n",
        "nltk.download('stopwords')\n",
        "from time import time\n",
        "import pandas as pd\n",
        "import numpy as np\n",
        "from gensim.models import KeyedVectors\n",
        "import re\n",
        "from nltk.corpus import stopwords\n",
        "import matplotlib.pyplot as plt\n",
        "import seaborn as sns\n",
        "\n",
        "import itertools\n",
        "import datetime\n",
        "\n",
        "from keras.preprocessing.sequence import pad_sequences\n",
        "from keras.models import Model\n",
        "from keras.layers import Input, Embedding, LSTM, Lambda\n",
        "import keras.backend as K\n",
        "from keras.optimizers import Adadelta\n",
        "from keras.callbacks import ModelCheckpoint\n",
        "\n",
        "\n",
        "stops = set(stopwords.words('english'))"
      ],
      "execution_count": 9,
      "outputs": [
        {
          "output_type": "stream",
          "text": [
            "[nltk_data] Downloading package punkt to /root/nltk_data...\n",
            "[nltk_data]   Package punkt is already up-to-date!\n",
            "[nltk_data] Downloading package stopwords to /root/nltk_data...\n",
            "[nltk_data]   Unzipping corpora/stopwords.zip.\n"
          ],
          "name": "stdout"
        },
        {
          "output_type": "stream",
          "text": [
            "Using TensorFlow backend.\n"
          ],
          "name": "stderr"
        }
      ]
    },
    {
      "cell_type": "markdown",
      "metadata": {
        "id": "xTxfMNRfpVBb",
        "colab_type": "text"
      },
      "source": [
        "## 2 Creating Embedding Matrix"
      ]
    },
    {
      "cell_type": "code",
      "metadata": {
        "id": "noKY478cWFH4",
        "colab_type": "code",
        "outputId": "94291f0f-4a27-4f31-ad62-f074afe1193f",
        "colab": {
          "base_uri": "https://localhost:8080/",
          "height": 54
        }
      },
      "source": [
        "# Create embedding matrix\n",
        "\n",
        "def text_to_word_list(text):\n",
        "    ''' Pre process and convert texts to a list of words '''\n",
        "    \n",
        "    text = str(text)\n",
        "    text = text.lower()\n",
        "\n",
        "    # Clean the text\n",
        "    text = re.sub(r\"[^A-Za-z0-9^,!.\\/'+-=]\", \" \", text) #delete special characters\n",
        "    text = re.sub(r\"what's\", \"what is \", text) # replace what's by what is\n",
        "    text = re.sub(r\"\\'s\", \" \", text)\n",
        "    text = re.sub(r\"\\'ve\", \" have \", text)\n",
        "    text = re.sub(r\"can't\", \"cannot \", text)\n",
        "    text = re.sub(r\"n't\", \" not \", text)\n",
        "    text = re.sub(r\"i'm\", \"i am \", text)\n",
        "    text = re.sub(r\"\\'re\", \" are \", text)\n",
        "    text = re.sub(r\"\\'d\", \" would \", text)\n",
        "    text = re.sub(r\"\\'ll\", \" will \", text)\n",
        "    text = re.sub(r\",\", \" \", text)\n",
        "    text = re.sub(r\"\\.\", \" \", text)\n",
        "    text = re.sub(r\"!\", \" ! \", text)\n",
        "    text = re.sub(r\"\\/\", \" \", text)\n",
        "    text = re.sub(r\"\\^\", \" ^ \", text)\n",
        "    text = re.sub(r\"\\+\", \" + \", text)\n",
        "    text = re.sub(r\"\\-\", \" - \", text)\n",
        "    text = re.sub(r\"\\=\", \" = \", text)\n",
        "    text = re.sub(r\"'\", \" \", text)\n",
        "    text = re.sub(r\"(\\d+)(k)\", r\"\\g<1>000\", text)\n",
        "    text = re.sub(r\":\", \" : \", text)\n",
        "    text = re.sub(r\" e g \", \" eg \", text)\n",
        "    text = re.sub(r\" b g \", \" bg \", text)\n",
        "    text = re.sub(r\" u s \", \" american \", text)\n",
        "    text = re.sub(r\"\\0s\", \"0\", text)\n",
        "    text = re.sub(r\" 9 11 \", \"911\", text)\n",
        "    text = re.sub(r\"e - mail\", \"email\", text)\n",
        "    text = re.sub(r\"j k\", \"jk\", text)\n",
        "    text = re.sub(r\"\\s{2,}\", \" \", text)\n",
        "\n",
        "    text = text.split()\n",
        "\n",
        "    return text\n",
        "\n",
        "# Prepare embedding\n",
        "vocabulary = dict()\n",
        "inverse_vocabulary = ['<unk>']  # '<unk>' will never be used, it is only a placeholder for the [0, 0, ....0] embedding\n",
        "word2vec = KeyedVectors.load_word2vec_format(EMBEDDING_FILE, binary=True)\n",
        "\n",
        "questions_cols = ['question1', 'question2']\n",
        "\n",
        "# Iterate over the questions of both training and test sets\n",
        "for dataset in [train,val,test]:\n",
        "    for index, row in dataset.iterrows():\n",
        "\n",
        "        # Iterate through the text of both questions of the row\n",
        "        for question in questions_cols:\n",
        "\n",
        "            q2n = []  # q2n -> question numbers representation\n",
        "            for word in text_to_word_list(row[question]):\n",
        "\n",
        "                # Check for unwanted words\n",
        "                if word in stops and word not in word2vec.vocab:\n",
        "                    continue\n",
        "\n",
        "                if word not in vocabulary:\n",
        "                    vocabulary[word] = len(inverse_vocabulary)\n",
        "                    q2n.append(len(inverse_vocabulary))\n",
        "                    inverse_vocabulary.append(word)\n",
        "                else:\n",
        "                    q2n.append(vocabulary[word])\n",
        "\n",
        "            # Replace questions as word to question as number representation\n",
        "            dataset.set_value(index, question, q2n)\n",
        "            \n",
        "embedding_dim = 300\n",
        "embeddings = 1 * np.random.randn(len(vocabulary) + 1, embedding_dim)  # This will be the embedding matrix\n",
        "embeddings[0] = 0  # So that the padding will be ignored\n",
        "\n",
        "# Build the embedding matrix\n",
        "for word, index in vocabulary.items():\n",
        "    if word in word2vec.vocab:\n",
        "        embeddings[index] = word2vec.word_vec(word)\n",
        "\n",
        "del word2vec\n",
        "\n",
        "file = '/content/gdrive/My Drive/KTH courses/P4/NLP Language processing/project/Models/embedding_array.npy'\n",
        "np.save(file, embeddings) # save\n",
        "embeddings = np.load(file) # load\n",
        "\n"
      ],
      "execution_count": 10,
      "outputs": [
        {
          "output_type": "stream",
          "text": [
            "/usr/local/lib/python3.6/dist-packages/ipykernel_launcher.py:72: FutureWarning: set_value is deprecated and will be removed in a future release. Please use .at[] or .iat[] accessors instead\n"
          ],
          "name": "stderr"
        }
      ]
    },
    {
      "cell_type": "code",
      "metadata": {
        "id": "mwCkDK3D2eKT",
        "colab_type": "code",
        "colab": {}
      },
      "source": [
        "# load the embeddings\n",
        "file = '/content/gdrive/My Drive/KTH courses/P4/NLP Language processing/project/Models/embedding_array.npy'\n",
        "embeddings = np.load(file) # load"
      ],
      "execution_count": 0,
      "outputs": []
    },
    {
      "cell_type": "markdown",
      "metadata": {
        "id": "ePAdBFcvpyft",
        "colab_type": "text"
      },
      "source": [
        "## 3 Preparing the input data "
      ]
    },
    {
      "cell_type": "code",
      "metadata": {
        "id": "34LAvbLBWOsa",
        "colab_type": "code",
        "colab": {}
      },
      "source": [
        "max_seq_length = max(train.question1.map(lambda x: len(x)).max(),\n",
        "                     train.question2.map(lambda x: len(x)).max(),\n",
        "                     val.question1.map(lambda x: len(x)).max(),\n",
        "                     val.question2.map(lambda x: len(x)).max(),\n",
        "                     test.question1.map(lambda x: len(x)).max(),\n",
        "                     test.question2.map(lambda x: len(x)).max())\n",
        "\n",
        "# Prepare train and validation data to the wanted format\n",
        "X_train = train[questions_cols]\n",
        "Y_train = train['is_duplicate']\n",
        "\n",
        "X_validation = val[questions_cols]\n",
        "Y_validation = val['is_duplicate']\n",
        "\n",
        "\n",
        "\n",
        "# Split to dicts\n",
        "X_train = {'left': X_train.question1, 'right': X_train.question2}\n",
        "X_validation = {'left': X_validation.question1, 'right': X_validation.question2}\n",
        "X_test = {'left': test.question1, 'right': test.question2}\n",
        "\n",
        "# Convert labels to their numpy representations\n",
        "Y_train = Y_train.values\n",
        "Y_validation = Y_validation.values\n",
        "Y_test = test['is_duplicate'].values\n",
        "# Zero padding\n",
        "for dataset, side in itertools.product([X_train, X_validation, X_test], ['left', 'right']):\n",
        "    dataset[side] = pad_sequences(dataset[side], maxlen=max_seq_length)\n",
        "\n",
        "# Make sure everything is ok\n",
        "assert X_train['left'].shape == X_train['right'].shape\n",
        "assert len(X_train['left']) == len(Y_train)\n"
      ],
      "execution_count": 0,
      "outputs": []
    },
    {
      "cell_type": "markdown",
      "metadata": {
        "id": "u1VJ4Br4qEBs",
        "colab_type": "text"
      },
      "source": [
        "## 4 Build and save the model"
      ]
    },
    {
      "cell_type": "code",
      "metadata": {
        "id": "dye67F2qnjKs",
        "colab_type": "code",
        "outputId": "fb716176-63ab-46d9-ba2a-8fe8436aa6d1",
        "colab": {
          "base_uri": "https://localhost:8080/",
          "height": 538
        }
      },
      "source": [
        "# Build the model\n",
        "\n",
        "\n",
        "# Model variables\n",
        "n_hidden = 50\n",
        "gradient_clipping_norm = 1.25\n",
        "batch_size = 500 # prevously 64\n",
        "n_epoch = 12\n",
        "\n",
        "def exponent_neg_manhattan_distance(left, right):\n",
        "    ''' Helper function for the similarity estimate of the LSTMs outputs'''\n",
        "    return K.exp(-K.sum(K.abs(left-right), axis=1, keepdims=True))\n",
        "\n",
        "# The visible layer\n",
        "left_input = Input(shape=(max_seq_length,), dtype='int32')\n",
        "right_input = Input(shape=(max_seq_length,), dtype='int32')\n",
        "\n",
        "embedding_layer = Embedding(len(embeddings), embedding_dim, weights=[embeddings], input_length=max_seq_length, trainable=False)\n",
        "\n",
        "# Embedded version of the inputs\n",
        "encoded_left = embedding_layer(left_input)\n",
        "encoded_right = embedding_layer(right_input)\n",
        "\n",
        "# Since this is a siamese network, both sides share the same LSTM\n",
        "shared_lstm = LSTM(n_hidden)\n",
        "\n",
        "left_output = shared_lstm(encoded_left)\n",
        "right_output = shared_lstm(encoded_right)\n",
        "\n",
        "# Calculates the distance as defined by the MaLSTM model\n",
        "malstm_distance = Lambda(function=lambda x: exponent_neg_manhattan_distance(x[0], x[1]),output_shape=lambda x: (x[0][0], 1))([left_output, right_output])\n",
        "\n",
        "# Pack it all up into a model\n",
        "malstm = Model([left_input, right_input], [malstm_distance])\n",
        "\n",
        "# Adadelta optimizer, with gradient clipping by norm\n",
        "optimizer = Adadelta(clipnorm=gradient_clipping_norm)\n",
        "\n",
        "malstm.compile(loss='mean_squared_error', optimizer=optimizer, metrics=['accuracy'])\n",
        "\n",
        "# Start training\n",
        "training_start_time = time()\n",
        "\n",
        "malstm_trained = malstm.fit([X_train['left'], X_train['right']], Y_train, batch_size=batch_size, nb_epoch=n_epoch,\n",
        "                            validation_data=([X_validation['left'], X_validation['right']], Y_validation))\n",
        "\n",
        "print(\"Training time finished.\\n{} epochs in {}\".format(n_epoch, datetime.timedelta(seconds=time()-training_start_time)))\n",
        "\n",
        "malstm.save(MODEL_SAVING_DIR)  # creates a HDF5 file 'my_model.h5'\n",
        "print(\"Model saved\")\n",
        "\n",
        "# convert the history.history dict to a pandas DataFrame:     \n",
        "hist_df = pd.DataFrame(malstm_trained.history)\n",
        "\n",
        "# save to csv: \n",
        "hist_csv_file = '/content/gdrive/My Drive/KTH courses/P4/NLP Language processing/project/Models/history.csv'\n",
        "with open(hist_csv_file, mode='w') as f:\n",
        "    hist_df.to_csv(f)\n",
        "print(\"History saved\")"
      ],
      "execution_count": 20,
      "outputs": [
        {
          "output_type": "stream",
          "text": [
            "/usr/local/lib/python3.6/dist-packages/ipykernel_launcher.py:41: UserWarning: The `nb_epoch` argument in `fit` has been renamed `epochs`.\n"
          ],
          "name": "stderr"
        },
        {
          "output_type": "stream",
          "text": [
            "Train on 208986 samples, validate on 60643 samples\n",
            "Epoch 1/12\n",
            "208986/208986 [==============================] - 276s 1ms/step - loss: 0.2322 - acc: 0.6577 - val_loss: 0.1978 - val_acc: 0.7235\n",
            "Epoch 2/12\n",
            "208986/208986 [==============================] - 272s 1ms/step - loss: 0.1996 - acc: 0.7140 - val_loss: 0.1886 - val_acc: 0.7374\n",
            "Epoch 3/12\n",
            "208986/208986 [==============================] - 267s 1ms/step - loss: 0.1879 - acc: 0.7360 - val_loss: 0.1843 - val_acc: 0.7397\n",
            "Epoch 4/12\n",
            "208986/208986 [==============================] - 270s 1ms/step - loss: 0.1810 - acc: 0.7477 - val_loss: 0.1742 - val_acc: 0.7530\n",
            "Epoch 5/12\n",
            "208986/208986 [==============================] - 271s 1ms/step - loss: 0.1765 - acc: 0.7554 - val_loss: 0.1726 - val_acc: 0.7557\n",
            "Epoch 6/12\n",
            "208986/208986 [==============================] - 267s 1ms/step - loss: 0.1730 - acc: 0.7615 - val_loss: 0.1731 - val_acc: 0.7531\n",
            "Epoch 7/12\n",
            "208986/208986 [==============================] - 267s 1ms/step - loss: 0.1702 - acc: 0.7659 - val_loss: 0.1656 - val_acc: 0.7659\n",
            "Epoch 8/12\n",
            "208986/208986 [==============================] - 272s 1ms/step - loss: 0.1678 - acc: 0.7697 - val_loss: 0.1713 - val_acc: 0.7538\n",
            "Epoch 9/12\n",
            "208986/208986 [==============================] - 267s 1ms/step - loss: 0.1659 - acc: 0.7727 - val_loss: 0.1700 - val_acc: 0.7559\n",
            "Epoch 10/12\n",
            "208986/208986 [==============================] - 266s 1ms/step - loss: 0.1643 - acc: 0.7751 - val_loss: 0.1615 - val_acc: 0.7715\n",
            "Epoch 11/12\n",
            "208986/208986 [==============================] - 268s 1ms/step - loss: 0.1627 - acc: 0.7774 - val_loss: 0.1621 - val_acc: 0.7705\n",
            "Epoch 12/12\n",
            "208986/208986 [==============================] - 267s 1ms/step - loss: 0.1614 - acc: 0.7793 - val_loss: 0.1583 - val_acc: 0.7771\n",
            "Training time finished.\n",
            "12 epochs in 0:53:51.053358\n",
            "Model saved\n",
            "History saved\n"
          ],
          "name": "stdout"
        }
      ]
    },
    {
      "cell_type": "code",
      "metadata": {
        "id": "lRzG9F995oIw",
        "colab_type": "code",
        "colab": {
          "base_uri": "https://localhost:8080/",
          "height": 86
        },
        "outputId": "0492daa3-d46c-488d-9af4-c8cd9c81da0e"
      },
      "source": [
        "# evaluate loaded model on test data\n",
        "score = malstm.evaluate([X_train['left'], X_train['right']], Y_train,batch_size=128, verbose=1)\n",
        "print(\"The metrics: \",malstm.metrics_names)\n",
        "print(\"%s: %.2f%%\" % (malstm.metrics_names[1], score[1]*100))\n",
        "print(\"%s: %.2f%%\" % (malstm.metrics_names[0], score[0]*100))\n"
      ],
      "execution_count": 21,
      "outputs": [
        {
          "output_type": "stream",
          "text": [
            "208986/208986 [==============================] - 376s 2ms/step\n",
            "The metrics:  ['loss', 'acc']\n",
            "acc: 77.89%\n",
            "loss: 16.10%\n"
          ],
          "name": "stdout"
        }
      ]
    },
    {
      "cell_type": "code",
      "metadata": {
        "id": "ol4senqB52bj",
        "colab_type": "code",
        "colab": {
          "base_uri": "https://localhost:8080/",
          "height": 34
        },
        "outputId": "250b6825-fd9b-49b0-dacd-4c1fd7453eea"
      },
      "source": [
        "y_preds = malstm.predict([X_test['left'],X_test['right']], verbose = 1)\n",
        "y_pred_hard = np.zeros(y_preds.shape[0])\n",
        "y_pred_hard[y_preds[:, 0] >= 0.5] = 1\n"
      ],
      "execution_count": 22,
      "outputs": [
        {
          "output_type": "stream",
          "text": [
            "60644/60644 [==============================] - 432s 7ms/step\n"
          ],
          "name": "stdout"
        }
      ]
    },
    {
      "cell_type": "code",
      "metadata": {
        "id": "oB-uU5vjq4wt",
        "colab_type": "code",
        "colab": {
          "base_uri": "https://localhost:8080/",
          "height": 311
        },
        "outputId": "50847418-d796-493a-e422-018a7fc5df6f"
      },
      "source": [
        "\n",
        "def plot_confusion_matrix(cm, classes,\n",
        "                          normalize=False,\n",
        "                          cmap=plt.cm.Blues):\n",
        "    \"\"\"\n",
        "    This function prints and plots the confusion matrix.\n",
        "    Normalization can be applied by setting `normalize=True`.\n",
        "    Function from https://www.kaggle.com/danbrice/keras-plot-history-full-report-and-grid-search\n",
        "    \"\"\"\n",
        "    if normalize:\n",
        "        cm = cm.astype('float') / cm.sum(axis=1)[:, np.newaxis]\n",
        "        title='Normalized confusion matrix'\n",
        "    else:\n",
        "        title='Confusion matrix'\n",
        "\n",
        "    plt.imshow(cm, interpolation='nearest', cmap=cmap)\n",
        "    plt.title(title)\n",
        "    plt.colorbar()\n",
        "    tick_marks = np.arange(len(classes))\n",
        "    plt.xticks(tick_marks, classes, rotation=45)\n",
        "    plt.yticks(tick_marks, classes)\n",
        "\n",
        "    fmt = '.2f' if normalize else 'd'\n",
        "    thresh = cm.max() / 2.\n",
        "    for i, j in itertools.product(range(cm.shape[0]), range(cm.shape[1])):\n",
        "        plt.text(j, i, format(cm[i, j], fmt),\n",
        "                 horizontalalignment=\"center\",\n",
        "                 color=\"white\" if cm[i, j] > thresh else \"black\")\n",
        "\n",
        "    plt.tight_layout()\n",
        "    plt.ylabel('True label')\n",
        "    plt.xlabel('Predicted label')\n",
        "    plt.show()\n",
        "\n",
        "    \n",
        "Y_test = test['is_duplicate'].values\n",
        "cnf_matrix = confusion_matrix(Y_test,y_pred_hard)\n",
        "\n",
        "plot_confusion_matrix(cnf_matrix,classes=[0,1])\n"
      ],
      "execution_count": 23,
      "outputs": [
        {
          "output_type": "display_data",
          "data": {
            "image/png": "[encoded data removed]",
            "text/plain": [
              "<Figure size 432x288 with 2 Axes>"
            ]
          },
          "metadata": {
            "tags": []
          }
        }
      ]
    },
    {
      "cell_type": "code",
      "metadata": {
        "id": "7kqaKoILAgPy",
        "colab_type": "code",
        "colab": {
          "base_uri": "https://localhost:8080/",
          "height": 34
        },
        "outputId": "f7724a6c-2db7-4519-b128-d657e5f9b48e"
      },
      "source": [
        "from sklearn.metrics import accuracy_score\n",
        "\n",
        "accuracy_score(Y_test,y_pred_hard)"
      ],
      "execution_count": 26,
      "outputs": [
        {
          "output_type": "execute_result",
          "data": {
            "text/plain": [
              "0.7760207110348921"
            ]
          },
          "metadata": {
            "tags": []
          },
          "execution_count": 26
        }
      ]
    },
    {
      "cell_type": "code",
      "metadata": {
        "id": "LRJK0s-FWTVS",
        "colab_type": "code",
        "colab": {
          "base_uri": "https://localhost:8080/",
          "height": 573
        },
        "outputId": "aa384a6a-3e85-4aeb-d25c-e48004444458"
      },
      "source": [
        "# Plotting the results\n",
        "\n",
        "\n",
        "# Plot accuracy\n",
        "plt.plot(malstm_trained.history['acc'])\n",
        "plt.plot(malstm_trained.history['val_acc'])\n",
        "plt.title('Model Accuracy')\n",
        "plt.ylabel('Accuracy')\n",
        "plt.xlabel('Epoch')\n",
        "plt.legend(['Train', 'Validation'], loc='upper left')\n",
        "plt.show()\n",
        "\n",
        "# Plot loss\n",
        "plt.plot(malstm_trained.history['loss'])\n",
        "plt.plot(malstm_trained.history['val_loss'])\n",
        "plt.title('Model Loss')\n",
        "plt.ylabel('Loss')\n",
        "plt.xlabel('Epoch')\n",
        "plt.legend(['Train', 'Validation'], loc='upper right')\n",
        "plt.show()\n",
        "\n"
      ],
      "execution_count": 24,
      "outputs": [
        {
          "output_type": "display_data",
          "data": {
            "image/png": "[encoded data removed]",
            "text/plain": [
              "<Figure size 432x288 with 1 Axes>"
            ]
          },
          "metadata": {
            "tags": []
          }
        },
        {
          "output_type": "display_data",
          "data": {
            "image/png": "[encoded data removed]",
            "text/plain": [
              "<Figure size 432x288 with 1 Axes>"
            ]
          },
          "metadata": {
            "tags": []
          }
        }
      ]
    },
    {
      "cell_type": "code",
      "metadata": {
        "id": "5pXfsSFP7MFD",
        "colab_type": "code",
        "colab": {}
      },
      "source": [
        ""
      ],
      "execution_count": 0,
      "outputs": []
    }
  ]
}