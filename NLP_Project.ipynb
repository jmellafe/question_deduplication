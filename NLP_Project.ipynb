{
  "nbformat": 4,
  "nbformat_minor": 0,
  "metadata": {
    "colab": {
      "name": "NLP_Project.ipynb",
      "version": "0.3.2",
      "provenance": [],
      "collapsed_sections": [],
      "toc_visible": true,
      "include_colab_link": true
    },
    "kernelspec": {
      "name": "python3",
      "display_name": "Python 3"
    },
    "accelerator": "TPU"
  },
  "cells": [
    {
      "cell_type": "markdown",
      "metadata": {
        "id": "view-in-github",
        "colab_type": "text"
      },
      "source": [
        "<a href=\"https://colab.research.google.com/github/jmellafe/question_deduplication/blob/master/NLP_Project.ipynb\" target=\"_parent\"><img src=\"https://colab.research.google.com/assets/colab-badge.svg\" alt=\"Open In Colab\"/></a>"
      ]
    },
    {
      "cell_type": "code",
      "metadata": {
        "id": "wv6-6PvFjQtt",
        "colab_type": "code",
        "colab": {}
      },
      "source": [
        "import numpy as np\n",
        "import seaborn as sns\n",
        "from matplotlib import pyplot as plt\n",
        "import pandas as pd\n",
        "from nltk.tokenize import word_tokenize\n",
        "from nltk.corpus import stopwords\n",
        "from gensim.corpora import Dictionary\n",
        "from gensim.models import TfidfModel\n",
        "from gensim.matutils import sparse2full\n",
        "from sklearn.metrics.pairwise import cosine_similarity"
      ],
      "execution_count": 0,
      "outputs": []
    },
    {
      "cell_type": "code",
      "metadata": {
        "id": "Lun2stY2Vodz",
        "colab_type": "code",
        "outputId": "13a10b65-407c-415d-c2a8-21239f4b2813",
        "colab": {
          "base_uri": "https://localhost:8080/",
          "height": 227
        }
      },
      "source": [
        "# import data from the drive \n",
        "\n",
        "from google.colab import drive\n",
        "drive.mount('/content/gdrive', force_remount=True)\n",
        "root_path = '/content/gdrive/My Drive/KTH courses/P4/NLP Language processing/project/data/train.csv' #change dir to your project folder"
      ],
      "execution_count": 2,
      "outputs": [
        {
          "output_type": "error",
          "ename": "ImportError",
          "evalue": "ignored",
          "traceback": [
            "\u001b[0;31m---------------------------------------------------------------------------\u001b[0m",
            "\u001b[0;31mImportError\u001b[0m                               Traceback (most recent call last)",
            "\u001b[0;32m<ipython-input-2-62895fa95226>\u001b[0m in \u001b[0;36m<module>\u001b[0;34m\u001b[0m\n\u001b[1;32m      1\u001b[0m \u001b[0;34m\u001b[0m\u001b[0m\n\u001b[0;32m----> 2\u001b[0;31m \u001b[0;32mfrom\u001b[0m \u001b[0mgoogle\u001b[0m\u001b[0;34m.\u001b[0m\u001b[0mcolab\u001b[0m \u001b[0;32mimport\u001b[0m \u001b[0mdrive\u001b[0m\u001b[0;34m\u001b[0m\u001b[0m\n\u001b[0m\u001b[1;32m      3\u001b[0m \u001b[0mdrive\u001b[0m\u001b[0;34m.\u001b[0m\u001b[0mmount\u001b[0m\u001b[0;34m(\u001b[0m\u001b[0;34m'/content/gdrive'\u001b[0m\u001b[0;34m,\u001b[0m \u001b[0mforce_remount\u001b[0m\u001b[0;34m=\u001b[0m\u001b[0;32mTrue\u001b[0m\u001b[0;34m)\u001b[0m\u001b[0;34m\u001b[0m\u001b[0m\n\u001b[1;32m      4\u001b[0m \u001b[0mroot_path\u001b[0m \u001b[0;34m=\u001b[0m \u001b[0;34m'/content/gdrive/My Drive/KTH courses/P4/NLP Language processing/project/data/train.csv'\u001b[0m \u001b[0;31m#change dir to your project folder\u001b[0m\u001b[0;34m\u001b[0m\u001b[0m\n",
            "\u001b[0;31mImportError\u001b[0m: No module named 'google.colab'"
          ]
        }
      ]
    },
    {
      "cell_type": "code",
      "metadata": {
        "id": "GzKxwuH0jZlV",
        "colab_type": "code",
        "outputId": "72732b6c-c0a0-469e-b458-7e7999b58ddf",
        "colab": {
          "base_uri": "https://localhost:8080/",
          "height": 449
        }
      },
      "source": [
        "# Hend data importing cell \n",
        "\n",
        "df = pd.read_csv('/content/gdrive/My Drive/KTH courses/P4/NLP Language processing/project/data/train.csv')\n",
        "df.head()"
      ],
      "execution_count": 0,
      "outputs": [
        {
          "output_type": "execute_result",
          "data": {
            "text/html": [
              "<div>\n",
              "<style scoped>\n",
              "    .dataframe tbody tr th:only-of-type {\n",
              "        vertical-align: middle;\n",
              "    }\n",
              "\n",
              "    .dataframe tbody tr th {\n",
              "        vertical-align: top;\n",
              "    }\n",
              "\n",
              "    .dataframe thead th {\n",
              "        text-align: right;\n",
              "    }\n",
              "</style>\n",
              "<table border=\"1\" class=\"dataframe\">\n",
              "  <thead>\n",
              "    <tr style=\"text-align: right;\">\n",
              "      <th></th>\n",
              "      <th>id</th>\n",
              "      <th>qid1</th>\n",
              "      <th>qid2</th>\n",
              "      <th>question1</th>\n",
              "      <th>question2</th>\n",
              "      <th>is_duplicate</th>\n",
              "    </tr>\n",
              "  </thead>\n",
              "  <tbody>\n",
              "    <tr>\n",
              "      <th>0</th>\n",
              "      <td>0</td>\n",
              "      <td>1</td>\n",
              "      <td>2</td>\n",
              "      <td>What is the step by step guide to invest in sh...</td>\n",
              "      <td>What is the step by step guide to invest in sh...</td>\n",
              "      <td>0</td>\n",
              "    </tr>\n",
              "    <tr>\n",
              "      <th>1</th>\n",
              "      <td>1</td>\n",
              "      <td>3</td>\n",
              "      <td>4</td>\n",
              "      <td>What is the story of Kohinoor (Koh-i-Noor) Dia...</td>\n",
              "      <td>What would happen if the Indian government sto...</td>\n",
              "      <td>0</td>\n",
              "    </tr>\n",
              "    <tr>\n",
              "      <th>2</th>\n",
              "      <td>2</td>\n",
              "      <td>5</td>\n",
              "      <td>6</td>\n",
              "      <td>How can I increase the speed of my internet co...</td>\n",
              "      <td>How can Internet speed be increased by hacking...</td>\n",
              "      <td>0</td>\n",
              "    </tr>\n",
              "    <tr>\n",
              "      <th>3</th>\n",
              "      <td>3</td>\n",
              "      <td>7</td>\n",
              "      <td>8</td>\n",
              "      <td>Why am I mentally very lonely? How can I solve...</td>\n",
              "      <td>Find the remainder when [math]23^{24}[/math] i...</td>\n",
              "      <td>0</td>\n",
              "    </tr>\n",
              "    <tr>\n",
              "      <th>4</th>\n",
              "      <td>4</td>\n",
              "      <td>9</td>\n",
              "      <td>10</td>\n",
              "      <td>Which one dissolve in water quikly sugar, salt...</td>\n",
              "      <td>Which fish would survive in salt water?</td>\n",
              "      <td>0</td>\n",
              "    </tr>\n",
              "  </tbody>\n",
              "</table>\n",
              "</div>"
            ],
            "text/plain": [
              "   id  qid1  qid2                                          question1  \\\n",
              "0   0     1     2  What is the step by step guide to invest in sh...   \n",
              "1   1     3     4  What is the story of Kohinoor (Koh-i-Noor) Dia...   \n",
              "2   2     5     6  How can I increase the speed of my internet co...   \n",
              "3   3     7     8  Why am I mentally very lonely? How can I solve...   \n",
              "4   4     9    10  Which one dissolve in water quikly sugar, salt...   \n",
              "\n",
              "                                           question2  is_duplicate  \n",
              "0  What is the step by step guide to invest in sh...             0  \n",
              "1  What would happen if the Indian government sto...             0  \n",
              "2  How can Internet speed be increased by hacking...             0  \n",
              "3  Find the remainder when [math]23^{24}[/math] i...             0  \n",
              "4            Which fish would survive in salt water?             0  "
            ]
          },
          "metadata": {
            "tags": []
          },
          "execution_count": 27
        }
      ]
    },
    {
      "cell_type": "code",
      "metadata": {
        "id": "Wo_Xe9ToX9bZ",
        "colab_type": "code",
        "outputId": "ca120d08-a4da-48d0-d051-22667265f1ff",
        "colab": {
          "base_uri": "https://localhost:8080/",
          "height": 198
        }
      },
      "source": [
        "#Alex data importing cell\n",
        "\n",
        "# df = pd.read_csv('/content/gdrive/My Drive/project/data/train.csv')\n",
        "df = pd.read_csv('/home/slimbook/PycharmProjects/question_deduplication/data/train.csv') #local\n",
        "\n",
        "df.head()"
      ],
      "execution_count": 3,
      "outputs": [
        {
          "output_type": "execute_result",
          "data": {
            "text/html": [
              "<div>\n",
              "<style scoped>\n",
              "    .dataframe tbody tr th:only-of-type {\n",
              "        vertical-align: middle;\n",
              "    }\n",
              "\n",
              "    .dataframe tbody tr th {\n",
              "        vertical-align: top;\n",
              "    }\n",
              "\n",
              "    .dataframe thead th {\n",
              "        text-align: right;\n",
              "    }\n",
              "</style>\n",
              "<table border=\"1\" class=\"dataframe\">\n",
              "  <thead>\n",
              "    <tr style=\"text-align: right;\">\n",
              "      <th></th>\n",
              "      <th>id</th>\n",
              "      <th>qid1</th>\n",
              "      <th>qid2</th>\n",
              "      <th>question1</th>\n",
              "      <th>question2</th>\n",
              "      <th>is_duplicate</th>\n",
              "    </tr>\n",
              "  </thead>\n",
              "  <tbody>\n",
              "    <tr>\n",
              "      <th>0</th>\n",
              "      <td>0</td>\n",
              "      <td>1</td>\n",
              "      <td>2</td>\n",
              "      <td>What is the step by step guide to invest in sh...</td>\n",
              "      <td>What is the step by step guide to invest in sh...</td>\n",
              "      <td>0</td>\n",
              "    </tr>\n",
              "    <tr>\n",
              "      <th>1</th>\n",
              "      <td>1</td>\n",
              "      <td>3</td>\n",
              "      <td>4</td>\n",
              "      <td>What is the story of Kohinoor (Koh-i-Noor) Dia...</td>\n",
              "      <td>What would happen if the Indian government sto...</td>\n",
              "      <td>0</td>\n",
              "    </tr>\n",
              "    <tr>\n",
              "      <th>2</th>\n",
              "      <td>2</td>\n",
              "      <td>5</td>\n",
              "      <td>6</td>\n",
              "      <td>How can I increase the speed of my internet co...</td>\n",
              "      <td>How can Internet speed be increased by hacking...</td>\n",
              "      <td>0</td>\n",
              "    </tr>\n",
              "    <tr>\n",
              "      <th>3</th>\n",
              "      <td>3</td>\n",
              "      <td>7</td>\n",
              "      <td>8</td>\n",
              "      <td>Why am I mentally very lonely? How can I solve...</td>\n",
              "      <td>Find the remainder when [math]23^{24}[/math] i...</td>\n",
              "      <td>0</td>\n",
              "    </tr>\n",
              "    <tr>\n",
              "      <th>4</th>\n",
              "      <td>4</td>\n",
              "      <td>9</td>\n",
              "      <td>10</td>\n",
              "      <td>Which one dissolve in water quikly sugar, salt...</td>\n",
              "      <td>Which fish would survive in salt water?</td>\n",
              "      <td>0</td>\n",
              "    </tr>\n",
              "  </tbody>\n",
              "</table>\n",
              "</div>"
            ],
            "text/plain": [
              "   id  qid1  qid2                                          question1  \\\n",
              "0   0     1     2  What is the step by step guide to invest in sh...   \n",
              "1   1     3     4  What is the story of Kohinoor (Koh-i-Noor) Dia...   \n",
              "2   2     5     6  How can I increase the speed of my internet co...   \n",
              "3   3     7     8  Why am I mentally very lonely? How can I solve...   \n",
              "4   4     9    10  Which one dissolve in water quikly sugar, salt...   \n",
              "\n",
              "                                           question2  is_duplicate  \n",
              "0  What is the step by step guide to invest in sh...             0  \n",
              "1  What would happen if the Indian government sto...             0  \n",
              "2  How can Internet speed be increased by hacking...             0  \n",
              "3  Find the remainder when [math]23^{24}[/math] i...             0  \n",
              "4            Which fish would survive in salt water?             0  "
            ]
          },
          "metadata": {
            "tags": []
          },
          "execution_count": 3
        }
      ]
    },
    {
      "cell_type": "code",
      "metadata": {
        "id": "ul5cq6gvchQ_",
        "colab_type": "code",
        "colab": {}
      },
      "source": [
        "# Shuffle the data\n",
        "\n",
        "df = df.sample(frac=1, random_state = 0).reset_index(drop=True)\n",
        "\n",
        "# Create train, validation and test datasets\n",
        "train_portion = 0.7\n",
        "val_portion = 0.15\n",
        "test_portion = 0.15\n",
        "\n",
        "train_idx = int(train_portion * df.shape[0])\n",
        "val_idx = int((train_portion + val_portion) * df.shape[0])\n",
        "\n",
        "train = df[:train_idx]\n",
        "val = df[train_idx:val_idx]\n",
        "test = df[val_idx:]"
      ],
      "execution_count": 0,
      "outputs": []
    },
    {
      "cell_type": "code",
      "metadata": {
        "id": "BUbYoSkBkU9-",
        "colab_type": "code",
        "outputId": "189e77e9-7014-4dbe-8d08-5489827d5d3f",
        "colab": {
          "base_uri": "https://localhost:8080/",
          "height": 316
        }
      },
      "source": [
        "is_dup = train['is_duplicate'].value_counts()\n",
        "print(\"Class 0: \", is_dup[0], \" Class1: \", is_dup[1])\n",
        "plt.figure(figsize=(8,4))\n",
        "sns.barplot(is_dup.index, is_dup.values, alpha=0.8)\n",
        "plt.ylabel('Number of Occurrences', fontsize=12)\n",
        "plt.xlabel('Is Duplicate', fontsize=12)\n",
        "plt.title('Checking the balance of the classes')\n",
        "plt.show()"
      ],
      "execution_count": 5,
      "outputs": [
        {
          "output_type": "stream",
          "text": [
            "Class 0:  178510  Class1:  104493\n"
          ],
          "name": "stdout"
        },
        {
          "output_type": "display_data",
          "data": {
            "image/png": "[encoded data removed]",
            "text/plain": [
              "<Figure size 576x288 with 1 Axes>"
            ]
          },
          "metadata": {
            "tags": [],
            "needs_background": "light"
          }
        }
      ]
    },
    {
      "cell_type": "code",
      "metadata": {
        "id": "NWWWAv5qkjSb",
        "colab_type": "code",
        "colab": {}
      },
      "source": [
        "# cleaning and balancing the training set\n",
        "train = train.dropna().reset_index(drop=True)\n",
        "\n",
        "class0 = train[train['is_duplicate']==0].sample(n=is_dup[1], random_state=1)\n",
        "class1 = train[train['is_duplicate']==1]\n",
        "train = pd.concat([class0, class1])\n"
      ],
      "execution_count": 0,
      "outputs": []
    },
    {
      "cell_type": "code",
      "metadata": {
        "id": "liFiiysefVv3",
        "colab_type": "code",
        "outputId": "86b2fa49-44c4-44f9-8f4a-42e1d8504900",
        "colab": {
          "base_uri": "https://localhost:8080/",
          "height": 332
        }
      },
      "source": [
        "\n",
        "# HIstogram number of words\n",
        "\n",
        "temp = train['question1'].apply(lambda x: len(x.split()) if type(x) == str else np.nan)\n",
        "\n",
        "temp2 = train['question2'].apply(lambda x: len(x.split()) if type(x) == str else np.nan)\n",
        "\n",
        "temp = pd.concat([temp, temp2]).dropna()\n",
        "\n",
        "sns.distplot(temp, kde=False)\n",
        "plt.legend()\n",
        "plt.title(\"Distribution number of words in questions\")\n",
        "plt.xlabel(\"Number of words\")\n",
        "plt.ylabel(\"frequency\")\n",
        "\n",
        "plt.show()\n",
        "plt.clf()\n"
      ],
      "execution_count": 7,
      "outputs": [
        {
          "output_type": "stream",
          "text": [
            "No handles with labels found to put in legend.\n"
          ],
          "name": "stderr"
        },
        {
          "output_type": "display_data",
          "data": {
            "image/png": "[encoded data removed]",
            "text/plain": [
              "<Figure size 432x288 with 1 Axes>"
            ]
          },
          "metadata": {
            "tags": [],
            "needs_background": "light"
          }
        },
        {
          "output_type": "display_data",
          "data": {
            "text/plain": [
              "<Figure size 432x288 with 0 Axes>"
            ]
          },
          "metadata": {
            "tags": []
          }
        }
      ]
    },
    {
      "cell_type": "code",
      "metadata": {
        "id": "czuVn_IxhszT",
        "colab_type": "code",
        "outputId": "2b453fcb-0292-4c75-d255-4953b31a8b6b",
        "colab": {
          "base_uri": "https://localhost:8080/",
          "height": 332
        }
      },
      "source": [
        "# detail same plot\n",
        "sns.distplot(temp[temp < 50], kde=False)\n",
        "plt.legend()\n",
        "plt.title(\"Distribution number of words in questions\")\n",
        "plt.xlabel(\"Number of words\")\n",
        "plt.ylabel(\"frequency\")\n",
        "\n",
        "plt.show()\n",
        "plt.clf()"
      ],
      "execution_count": 8,
      "outputs": [
        {
          "output_type": "stream",
          "text": [
            "No handles with labels found to put in legend.\n"
          ],
          "name": "stderr"
        },
        {
          "output_type": "display_data",
          "data": {
            "image/png": "[encoded data removed]",
            "text/plain": [
              "<Figure size 432x288 with 1 Axes>"
            ]
          },
          "metadata": {
            "tags": [],
            "needs_background": "light"
          }
        },
        {
          "output_type": "display_data",
          "data": {
            "text/plain": [
              "<Figure size 432x288 with 0 Axes>"
            ]
          },
          "metadata": {
            "tags": []
          }
        }
      ]
    },
    {
      "cell_type": "markdown",
      "metadata": {
        "id": "_W4hPjzxoahx",
        "colab_type": "text"
      },
      "source": [
        "## Preprocessing and preparing Features"
      ]
    },
    {
      "cell_type": "code",
      "metadata": {
        "id": "c4etO2vfsW0t",
        "colab_type": "code",
        "outputId": "bad28515-e9ba-4b7d-9b05-8756fc9f03b0",
        "colab": {
          "base_uri": "https://localhost:8080/",
          "height": 72
        }
      },
      "source": [
        "import nltk\n",
        "nltk.download('punkt')"
      ],
      "execution_count": 9,
      "outputs": [
        {
          "output_type": "stream",
          "text": [
            "[nltk_data] Downloading package punkt to /home/slimbook/nltk_data...\n",
            "[nltk_data]   Package punkt is already up-to-date!\n"
          ],
          "name": "stderr"
        },
        {
          "output_type": "execute_result",
          "data": {
            "text/plain": [
              "True"
            ]
          },
          "metadata": {
            "tags": []
          },
          "execution_count": 9
        }
      ]
    },
    {
      "cell_type": "code",
      "metadata": {
        "id": "2rfY7FnvsB78",
        "colab_type": "code",
        "outputId": "6a86a936-74da-4a2b-c5f9-acedcade6ce5",
        "colab": {
          "base_uri": "https://localhost:8080/",
          "height": 235
        }
      },
      "source": [
        "# simple tokenization just to build the tf-idf feature vector, probably we should replace it for something fancier\n",
        "train['q1_tokens'] = train['question1'].apply(lambda x: word_tokenize(x) if type(x)==str else np.nan)\n",
        "train['q2_tokens'] = train['question2'].apply(lambda x: word_tokenize(x) if type(x)==str else np.nan)\n",
        "\n",
        "val['q1_tokens'] = val['question1'].apply(lambda x: word_tokenize(x) if type(x)==str else np.nan)\n",
        "val['q2_tokens'] = val['question2'].apply(lambda x: word_tokenize(x) if type(x)==str else np.nan)\n"
      ],
      "execution_count": 10,
      "outputs": [
        {
          "output_type": "stream",
          "text": [
            "/usr/local/lib/python3.5/dist-packages/ipykernel_launcher.py:4: SettingWithCopyWarning: \n",
            "A value is trying to be set on a copy of a slice from a DataFrame.\n",
            "Try using .loc[row_indexer,col_indexer] = value instead\n",
            "\n",
            "See the caveats in the documentation: http://pandas.pydata.org/pandas-docs/stable/indexing.html#indexing-view-versus-copy\n",
            "  after removing the cwd from sys.path.\n",
            "/usr/local/lib/python3.5/dist-packages/ipykernel_launcher.py:5: SettingWithCopyWarning: \n",
            "A value is trying to be set on a copy of a slice from a DataFrame.\n",
            "Try using .loc[row_indexer,col_indexer] = value instead\n",
            "\n",
            "See the caveats in the documentation: http://pandas.pydata.org/pandas-docs/stable/indexing.html#indexing-view-versus-copy\n",
            "  \"\"\"\n"
          ],
          "name": "stderr"
        }
      ]
    },
    {
      "cell_type": "code",
      "metadata": {
        "id": "_L3WTxZuoVXh",
        "colab_type": "code",
        "colab": {
          "base_uri": "https://localhost:8080/",
          "height": 72
        },
        "outputId": "e0d40343-422d-423d-8715-0468895563cd"
      },
      "source": [
        "# delete stopwords\n",
        "nltk.download('stopwords')\n",
        "STOP_WORDS = set(stopwords.words('english'))\n",
        "train['q1_tokens'] = train['q1_tokens'].apply(lambda x: [w for w in x if w not in STOP_WORDS])\n",
        "train['q2_tokens'] = train['q2_tokens'].apply(lambda x: [w for w in x if w not in STOP_WORDS])"
      ],
      "execution_count": 11,
      "outputs": [
        {
          "output_type": "stream",
          "text": [
            "[nltk_data] Downloading package stopwords to\n",
            "[nltk_data]     /home/slimbook/nltk_data...\n",
            "[nltk_data]   Package stopwords is already up-to-date!\n"
          ],
          "name": "stderr"
        }
      ]
    },
    {
      "cell_type": "markdown",
      "metadata": {
        "id": "JqXHFnqp3yJJ",
        "colab_type": "text"
      },
      "source": [
        ""
      ]
    },
    {
      "cell_type": "code",
      "metadata": {
        "id": "CSoSMnzmsG5J",
        "colab_type": "code",
        "outputId": "223d7af9-4063-4595-89d1-7aad040cdbb9",
        "colab": {
          "base_uri": "https://localhost:8080/",
          "height": 405
        }
      },
      "source": [
        "# Create gensim dictionary to allow BoW representation\n",
        "dctr = Dictionary(train['q1_tokens'].dropna())\n",
        "dctr.add_documents(train['q2_tokens'].dropna())\n",
        "\n",
        "# Create tf-idf model\n",
        "corpus = train['q1_tokens'].tolist() + train['q2_tokens'].tolist()\n",
        "corpus = [dctr.doc2bow(sent) for sent in corpus if type(sent)==list]\n",
        "model = TfidfModel(corpus)\n",
        "\n",
        "# Apply tf-idf to all the questions in the training set, creating new columns\n",
        "train['q1_tfidf'] = train['q1_tokens'].apply(lambda x: model[dctr.doc2bow(x)] if type(x)==list else np.nan)\n",
        "train['q2_tfidf'] = train['q2_tokens'].apply(lambda x: model[dctr.doc2bow(x)] if type(x)==list else np.nan)\n",
        "\n",
        "train.head()"
      ],
      "execution_count": 12,
      "outputs": [
        {
          "output_type": "execute_result",
          "data": {
            "text/html": [
              "<div>\n",
              "<style scoped>\n",
              "    .dataframe tbody tr th:only-of-type {\n",
              "        vertical-align: middle;\n",
              "    }\n",
              "\n",
              "    .dataframe tbody tr th {\n",
              "        vertical-align: top;\n",
              "    }\n",
              "\n",
              "    .dataframe thead th {\n",
              "        text-align: right;\n",
              "    }\n",
              "</style>\n",
              "<table border=\"1\" class=\"dataframe\">\n",
              "  <thead>\n",
              "    <tr style=\"text-align: right;\">\n",
              "      <th></th>\n",
              "      <th>id</th>\n",
              "      <th>qid1</th>\n",
              "      <th>qid2</th>\n",
              "      <th>question1</th>\n",
              "      <th>question2</th>\n",
              "      <th>is_duplicate</th>\n",
              "      <th>q1_tokens</th>\n",
              "      <th>q2_tokens</th>\n",
              "      <th>q1_tfidf</th>\n",
              "      <th>q2_tfidf</th>\n",
              "    </tr>\n",
              "  </thead>\n",
              "  <tbody>\n",
              "    <tr>\n",
              "      <th>31152</th>\n",
              "      <td>395916</td>\n",
              "      <td>528943</td>\n",
              "      <td>499737</td>\n",
              "      <td>What is absolute black?</td>\n",
              "      <td>What is absolution?</td>\n",
              "      <td>0</td>\n",
              "      <td>[What, absolute, black, ?]</td>\n",
              "      <td>[What, absolution, ?]</td>\n",
              "      <td>[(0, 0.00012110610473031244), (1, 0.1051982067...</td>\n",
              "      <td>[(0, 9.27165384396753e-05), (1, 0.080537753255...</td>\n",
              "    </tr>\n",
              "    <tr>\n",
              "      <th>149379</th>\n",
              "      <td>76666</td>\n",
              "      <td>131026</td>\n",
              "      <td>131027</td>\n",
              "      <td>Why did AOL buy Time Warner?</td>\n",
              "      <td>Why is AT&amp;T buying Time Warner?</td>\n",
              "      <td>0</td>\n",
              "      <td>[Why, AOL, buy, Time, Warner, ?]</td>\n",
              "      <td>[Why, AT, &amp;, T, buying, Time, Warner, ?]</td>\n",
              "      <td>[(0, 6.750163191519274e-05), (4, 0.58099605812...</td>\n",
              "      <td>[(0, 5.9131578717069275e-05), (5, 0.4163507112...</td>\n",
              "    </tr>\n",
              "    <tr>\n",
              "      <th>69891</th>\n",
              "      <td>195287</td>\n",
              "      <td>295691</td>\n",
              "      <td>295692</td>\n",
              "      <td>Can I wear shades at night?</td>\n",
              "      <td>What is the fee structure of SIHMA for BHM?</td>\n",
              "      <td>0</td>\n",
              "      <td>[Can, I, wear, shades, night, ?]</td>\n",
              "      <td>[What, fee, structure, SIHMA, BHM, ?]</td>\n",
              "      <td>[(0, 7.975160080421212e-05), (9, 0.24303586775...</td>\n",
              "      <td>[(0, 5.505150372576836e-05), (1, 0.04782021091...</td>\n",
              "    </tr>\n",
              "    <tr>\n",
              "      <th>209637</th>\n",
              "      <td>38317</td>\n",
              "      <td>69610</td>\n",
              "      <td>69611</td>\n",
              "      <td>How can one understand the meaning of life?</td>\n",
              "      <td>How do you realize what is really important in...</td>\n",
              "      <td>0</td>\n",
              "      <td>[How, one, understand, meaning, life, ?]</td>\n",
              "      <td>[How, realize, really, important, life, ?]</td>\n",
              "      <td>[(0, 0.00011102533568057859), (14, 0.133744601...</td>\n",
              "      <td>[(0, 0.00010019388368544854), (14, 0.120696694...</td>\n",
              "    </tr>\n",
              "    <tr>\n",
              "      <th>164367</th>\n",
              "      <td>36517</td>\n",
              "      <td>66573</td>\n",
              "      <td>66574</td>\n",
              "      <td>How can the coking happen on a load tap changer?</td>\n",
              "      <td>Any one experienced on marketing live streamin...</td>\n",
              "      <td>0</td>\n",
              "      <td>[How, coking, happen, load, tap, changer, ?]</td>\n",
              "      <td>[Any, one, experienced, marketing, live, strea...</td>\n",
              "      <td>[(0, 5.35184650344882e-05), (14, 0.06447002153...</td>\n",
              "      <td>[(0, 3.882550689915528e-05), (17, 0.1300074178...</td>\n",
              "    </tr>\n",
              "  </tbody>\n",
              "</table>\n",
              "</div>"
            ],
            "text/plain": [
              "            id    qid1    qid2  \\\n",
              "31152   395916  528943  499737   \n",
              "149379   76666  131026  131027   \n",
              "69891   195287  295691  295692   \n",
              "209637   38317   69610   69611   \n",
              "164367   36517   66573   66574   \n",
              "\n",
              "                                               question1  \\\n",
              "31152                            What is absolute black?   \n",
              "149379                      Why did AOL buy Time Warner?   \n",
              "69891                        Can I wear shades at night?   \n",
              "209637       How can one understand the meaning of life?   \n",
              "164367  How can the coking happen on a load tap changer?   \n",
              "\n",
              "                                                question2  is_duplicate  \\\n",
              "31152                                 What is absolution?             0   \n",
              "149379                    Why is AT&T buying Time Warner?             0   \n",
              "69891         What is the fee structure of SIHMA for BHM?             0   \n",
              "209637  How do you realize what is really important in...             0   \n",
              "164367  Any one experienced on marketing live streamin...             0   \n",
              "\n",
              "                                           q1_tokens  \\\n",
              "31152                     [What, absolute, black, ?]   \n",
              "149379              [Why, AOL, buy, Time, Warner, ?]   \n",
              "69891               [Can, I, wear, shades, night, ?]   \n",
              "209637      [How, one, understand, meaning, life, ?]   \n",
              "164367  [How, coking, happen, load, tap, changer, ?]   \n",
              "\n",
              "                                                q2_tokens  \\\n",
              "31152                               [What, absolution, ?]   \n",
              "149379           [Why, AT, &, T, buying, Time, Warner, ?]   \n",
              "69891               [What, fee, structure, SIHMA, BHM, ?]   \n",
              "209637         [How, realize, really, important, life, ?]   \n",
              "164367  [Any, one, experienced, marketing, live, strea...   \n",
              "\n",
              "                                                 q1_tfidf  \\\n",
              "31152   [(0, 0.00012110610473031244), (1, 0.1051982067...   \n",
              "149379  [(0, 6.750163191519274e-05), (4, 0.58099605812...   \n",
              "69891   [(0, 7.975160080421212e-05), (9, 0.24303586775...   \n",
              "209637  [(0, 0.00011102533568057859), (14, 0.133744601...   \n",
              "164367  [(0, 5.35184650344882e-05), (14, 0.06447002153...   \n",
              "\n",
              "                                                 q2_tfidf  \n",
              "31152   [(0, 9.27165384396753e-05), (1, 0.080537753255...  \n",
              "149379  [(0, 5.9131578717069275e-05), (5, 0.4163507112...  \n",
              "69891   [(0, 5.505150372576836e-05), (1, 0.04782021091...  \n",
              "209637  [(0, 0.00010019388368544854), (14, 0.120696694...  \n",
              "164367  [(0, 3.882550689915528e-05), (17, 0.1300074178...  "
            ]
          },
          "metadata": {
            "tags": []
          },
          "execution_count": 12
        }
      ]
    },
    {
      "cell_type": "code",
      "metadata": {
        "id": "6Tz9kFwjoGqT",
        "colab_type": "code",
        "outputId": "a2e71052-8b45-4dd3-a568-1aaad278e1ee",
        "colab": {
          "base_uri": "https://localhost:8080/",
          "height": 355
        }
      },
      "source": [
        "# preparing the features \n",
        "\n",
        "# Similarities\n",
        "def sim_tfidf(a, b):\n",
        "  \n",
        "  max_idx = max([w[0] for w in a] + [w[0] for w in b])+1\n",
        "  \n",
        "  a_vec = np.zeros(max_idx)\n",
        "  b_vec = np.zeros(max_idx)\n",
        "  \n",
        "  for w in a:\n",
        "    a_vec[w[0]] = w[-1]\n",
        "    \n",
        "  for w in b:\n",
        "    b_vec[w[0]] = w[-1]\n",
        "    \n",
        "  return cosine_similarity(a_vec.reshape(1,-1),b_vec.reshape(1,-1))\n",
        "\n",
        "\n",
        "\n",
        "#series of all the questions in the training set \n",
        "train_qs = pd.Series(train['question1'].tolist() + train['question2'].tolist()).astype(str)\n",
        "print(\"Question: \",train_qs[1])\n",
        "\n",
        "#length of the questions provided in the train set\n",
        "len_qs_train = train_qs.apply(lambda x: len(x.split(' ')))\n",
        "print(\"lengh of the question: \",len_qs_train[1])\n",
        "\n",
        "qmarks = train_qs.apply(lambda x: '?' in x)\n",
        "print(\"The pourcentage of questions including '?' : \",np.mean(qmarks))\n",
        "\n",
        "fullstop = train_qs.apply(lambda x: '.' in x)\n",
        "print(\"The pourcentage of questions including '.' : \",np.mean(fullstop))\n",
        "\n",
        "capital_first = train_qs.apply(lambda x: x[0].isupper())\n",
        "print(\"The pourcentage of questions starting with a capital letter is: \",np.mean(capital_first))\n",
        "\n",
        "capitals = train_qs.apply(lambda x: max([y.isupper() for y in x]))\n",
        "print(\"The pourcentage of questions including capital letters : \",np.mean(capitals))\n",
        "\n",
        "numbers = train_qs.apply(lambda x: max([y.isdigit() for y in x]))\n",
        "print(\"The mean max numbers of digits in  of questions including numbers : \",np.mean(numbers))\n",
        "\n",
        "similarities = np.array([sim_tfidf(a,b) for a,b in zip(train['q1_tfidf'].tolist(), train['q2_tfidf'].tolist())])\n",
        "print(\"The mean similarity the question pairs is : \",np.mean(numbers))\n",
        "stat_features = [len_qs_train, qmarks, fullstop, capital_first, capitals, numbers, similarities]"
      ],
      "execution_count": 42,
      "outputs": [
        {
          "output_type": "stream",
          "text": [
            "Question:  Is Roambi a big data app startup? What is the technology behind it?\n",
            "lengh of the question:  13\n",
            "The pourcentage of questions including '?' :  0.9988611677337238\n",
            "The pourcentage of questions including '.' :  0.056278889494990096\n",
            "The pourcentage of questions starting with a capital letter is:  0.9983204616577187\n",
            "The pourcentage of questions including capital letters :  0.9995645641334826\n",
            "The mean max numbers of digits in  of questions including numbers :  0.11633075899821041\n",
            "The mean similarity the question pairs is :  0.11633075899821041\n"
          ],
          "name": "stdout"
        },
        {
          "output_type": "error",
          "ename": "NameError",
          "evalue": "ignored",
          "traceback": [
            "\u001b[0;31m---------------------------------------------------------------------------\u001b[0m",
            "\u001b[0;31mNameError\u001b[0m                                 Traceback (most recent call last)",
            "\u001b[0;32m<ipython-input-42-d73840827cad>\u001b[0m in \u001b[0;36m<module>\u001b[0;34m\u001b[0m\n\u001b[1;32m     41\u001b[0m \u001b[0msimilarities\u001b[0m \u001b[0;34m=\u001b[0m \u001b[0mnp\u001b[0m\u001b[0;34m.\u001b[0m\u001b[0marray\u001b[0m\u001b[0;34m(\u001b[0m\u001b[0;34m[\u001b[0m\u001b[0msim_tfidf\u001b[0m\u001b[0;34m(\u001b[0m\u001b[0ma\u001b[0m\u001b[0;34m,\u001b[0m\u001b[0mb\u001b[0m\u001b[0;34m)\u001b[0m \u001b[0;32mfor\u001b[0m \u001b[0ma\u001b[0m\u001b[0;34m,\u001b[0m\u001b[0mb\u001b[0m \u001b[0;32min\u001b[0m \u001b[0mzip\u001b[0m\u001b[0;34m(\u001b[0m\u001b[0mtrain\u001b[0m\u001b[0;34m[\u001b[0m\u001b[0;34m'q1_tfidf'\u001b[0m\u001b[0;34m]\u001b[0m\u001b[0;34m.\u001b[0m\u001b[0mtolist\u001b[0m\u001b[0;34m(\u001b[0m\u001b[0;34m)\u001b[0m\u001b[0;34m,\u001b[0m \u001b[0mtrain\u001b[0m\u001b[0;34m[\u001b[0m\u001b[0;34m'q2_tfidf'\u001b[0m\u001b[0;34m]\u001b[0m\u001b[0;34m.\u001b[0m\u001b[0mtolist\u001b[0m\u001b[0;34m(\u001b[0m\u001b[0;34m)\u001b[0m\u001b[0;34m)\u001b[0m\u001b[0;34m]\u001b[0m\u001b[0;34m)\u001b[0m\u001b[0;34m\u001b[0m\u001b[0m\n\u001b[1;32m     42\u001b[0m \u001b[0mprint\u001b[0m\u001b[0;34m(\u001b[0m\u001b[0;34m\"The mean similarity the question pairs is : \"\u001b[0m\u001b[0;34m,\u001b[0m\u001b[0mnp\u001b[0m\u001b[0;34m.\u001b[0m\u001b[0mmean\u001b[0m\u001b[0;34m(\u001b[0m\u001b[0mnumbers\u001b[0m\u001b[0;34m)\u001b[0m\u001b[0;34m)\u001b[0m\u001b[0;34m\u001b[0m\u001b[0m\n\u001b[0;32m---> 43\u001b[0;31m \u001b[0mstat_features\u001b[0m \u001b[0;34m=\u001b[0m \u001b[0;34m[\u001b[0m\u001b[0mlen_qs_train\u001b[0m\u001b[0;34m,\u001b[0m \u001b[0mqmarks\u001b[0m\u001b[0;34m,\u001b[0m \u001b[0mfullstop\u001b[0m\u001b[0;34m,\u001b[0m \u001b[0mcapital_first\u001b[0m\u001b[0;34m,\u001b[0m \u001b[0mcapitals\u001b[0m\u001b[0;34m,\u001b[0m \u001b[0mnumbers\u001b[0m\u001b[0;34m,\u001b[0m \u001b[0msimilatities\u001b[0m\u001b[0;34m]\u001b[0m\u001b[0;34m\u001b[0m\u001b[0m\n\u001b[0m",
            "\u001b[0;31mNameError\u001b[0m: name 'similatities' is not defined"
          ]
        }
      ]
    },
    {
      "cell_type": "code",
      "metadata": {
        "id": "KqpMH7VxpM2A",
        "colab_type": "code",
        "colab": {
          "base_uri": "https://localhost:8080/",
          "height": 651
        },
        "outputId": "864bb525-74c9-47c0-f1d9-f10c4f8a6a8a"
      },
      "source": [
        "# tfidf dimensionality reduction\n",
        "\n",
        "def tfidf_to_array(tfidf_list, len_dict):\n",
        "  tfidf_array = np.zeros(len_dict)\n",
        "  tfidf_array[[w[0] for w in tfidf_list]] = [w[-1] for w in tfidf_list]\n",
        "  return tfidf_array\n",
        "  \n",
        "all_vecs = pd.concat([train['q1_tfidf'][1000].apply(lambda x:sparse2full(x, len(dctr))),train['q2_tfidf'][1000].apply(lambda x:sparse2full(x, len(dctr)))])"
      ],
      "execution_count": 46,
      "outputs": [
        {
          "output_type": "error",
          "ename": "KeyboardInterrupt",
          "evalue": "ignored",
          "traceback": [
            "\u001b[0;31m---------------------------------------------------------------------------\u001b[0m",
            "\u001b[0;31mKeyboardInterrupt\u001b[0m                         Traceback (most recent call last)",
            "\u001b[0;32m~/.local/lib/python3.5/site-packages/pandas/core/series.py\u001b[0m in \u001b[0;36mapply\u001b[0;34m(self, func, convert_dtype, args, **kwds)\u001b[0m\n\u001b[1;32m   2550\u001b[0m                 \u001b[0mvalues\u001b[0m \u001b[0;34m=\u001b[0m \u001b[0mself\u001b[0m\u001b[0;34m.\u001b[0m\u001b[0masobject\u001b[0m\u001b[0;34m\u001b[0m\u001b[0m\n\u001b[0;32m-> 2551\u001b[0;31m                 \u001b[0mmapped\u001b[0m \u001b[0;34m=\u001b[0m \u001b[0mlib\u001b[0m\u001b[0;34m.\u001b[0m\u001b[0mmap_infer\u001b[0m\u001b[0;34m(\u001b[0m\u001b[0mvalues\u001b[0m\u001b[0;34m,\u001b[0m \u001b[0mf\u001b[0m\u001b[0;34m,\u001b[0m \u001b[0mconvert\u001b[0m\u001b[0;34m=\u001b[0m\u001b[0mconvert_dtype\u001b[0m\u001b[0;34m)\u001b[0m\u001b[0;34m\u001b[0m\u001b[0m\n\u001b[0m\u001b[1;32m   2552\u001b[0m \u001b[0;34m\u001b[0m\u001b[0m\n",
            "\u001b[0;32mpandas/_libs/src/inference.pyx\u001b[0m in \u001b[0;36mpandas._libs.lib.map_infer\u001b[0;34m()\u001b[0m\n",
            "\u001b[0;32m<ipython-input-46-859274667f03>\u001b[0m in \u001b[0;36m<lambda>\u001b[0;34m(x)\u001b[0m\n\u001b[1;32m      6\u001b[0m \u001b[0;34m\u001b[0m\u001b[0m\n\u001b[0;32m----> 7\u001b[0;31m \u001b[0mpd\u001b[0m\u001b[0;34m.\u001b[0m\u001b[0mconcat\u001b[0m\u001b[0;34m(\u001b[0m\u001b[0;34m[\u001b[0m\u001b[0mtrain\u001b[0m\u001b[0;34m[\u001b[0m\u001b[0;34m'q1_tfidf'\u001b[0m\u001b[0;34m]\u001b[0m\u001b[0;34m.\u001b[0m\u001b[0mapply\u001b[0m\u001b[0;34m(\u001b[0m\u001b[0;32mlambda\u001b[0m \u001b[0mx\u001b[0m\u001b[0;34m:\u001b[0m\u001b[0msparse2full\u001b[0m\u001b[0;34m(\u001b[0m\u001b[0mx\u001b[0m\u001b[0;34m,\u001b[0m \u001b[0mlen\u001b[0m\u001b[0;34m(\u001b[0m\u001b[0mdctr\u001b[0m\u001b[0;34m)\u001b[0m\u001b[0;34m)\u001b[0m\u001b[0;34m)\u001b[0m\u001b[0;34m,\u001b[0m\u001b[0mtrain\u001b[0m\u001b[0;34m[\u001b[0m\u001b[0;34m'q2_tfidf'\u001b[0m\u001b[0;34m]\u001b[0m\u001b[0;34m.\u001b[0m\u001b[0mapply\u001b[0m\u001b[0;34m(\u001b[0m\u001b[0;32mlambda\u001b[0m \u001b[0mx\u001b[0m\u001b[0;34m:\u001b[0m\u001b[0msparse2full\u001b[0m\u001b[0;34m(\u001b[0m\u001b[0mx\u001b[0m\u001b[0;34m,\u001b[0m \u001b[0mlen\u001b[0m\u001b[0;34m(\u001b[0m\u001b[0mdctr\u001b[0m\u001b[0;34m)\u001b[0m\u001b[0;34m)\u001b[0m\u001b[0;34m)\u001b[0m\u001b[0;34m]\u001b[0m\u001b[0;34m)\u001b[0m\u001b[0;34m\u001b[0m\u001b[0m\n\u001b[0m",
            "\u001b[0;32m/usr/local/lib/python3.5/dist-packages/gensim/matutils.py\u001b[0m in \u001b[0;36msparse2full\u001b[0;34m(doc, length)\u001b[0m\n\u001b[1;32m    392\u001b[0m     \"\"\"\n\u001b[0;32m--> 393\u001b[0;31m     \u001b[0mresult\u001b[0m \u001b[0;34m=\u001b[0m \u001b[0mnp\u001b[0m\u001b[0;34m.\u001b[0m\u001b[0mzeros\u001b[0m\u001b[0;34m(\u001b[0m\u001b[0mlength\u001b[0m\u001b[0;34m,\u001b[0m \u001b[0mdtype\u001b[0m\u001b[0;34m=\u001b[0m\u001b[0mnp\u001b[0m\u001b[0;34m.\u001b[0m\u001b[0mfloat32\u001b[0m\u001b[0;34m)\u001b[0m  \u001b[0;31m# fill with zeroes (default value)\u001b[0m\u001b[0;34m\u001b[0m\u001b[0m\n\u001b[0m\u001b[1;32m    394\u001b[0m     \u001b[0;31m# convert indices to int as numpy 1.12 no longer indexes by floats\u001b[0m\u001b[0;34m\u001b[0m\u001b[0;34m\u001b[0m\u001b[0m\n",
            "\u001b[0;31mKeyboardInterrupt\u001b[0m: ",
            "\nDuring handling of the above exception, another exception occurred:\n",
            "\u001b[0;31mKeyboardInterrupt\u001b[0m                         Traceback (most recent call last)",
            "\u001b[0;32m<ipython-input-46-859274667f03>\u001b[0m in \u001b[0;36m<module>\u001b[0;34m\u001b[0m\n\u001b[1;32m      5\u001b[0m   \u001b[0;32mreturn\u001b[0m \u001b[0mtfidf_array\u001b[0m\u001b[0;34m\u001b[0m\u001b[0m\n\u001b[1;32m      6\u001b[0m \u001b[0;34m\u001b[0m\u001b[0m\n\u001b[0;32m----> 7\u001b[0;31m \u001b[0mpd\u001b[0m\u001b[0;34m.\u001b[0m\u001b[0mconcat\u001b[0m\u001b[0;34m(\u001b[0m\u001b[0;34m[\u001b[0m\u001b[0mtrain\u001b[0m\u001b[0;34m[\u001b[0m\u001b[0;34m'q1_tfidf'\u001b[0m\u001b[0;34m]\u001b[0m\u001b[0;34m.\u001b[0m\u001b[0mapply\u001b[0m\u001b[0;34m(\u001b[0m\u001b[0;32mlambda\u001b[0m \u001b[0mx\u001b[0m\u001b[0;34m:\u001b[0m\u001b[0msparse2full\u001b[0m\u001b[0;34m(\u001b[0m\u001b[0mx\u001b[0m\u001b[0;34m,\u001b[0m \u001b[0mlen\u001b[0m\u001b[0;34m(\u001b[0m\u001b[0mdctr\u001b[0m\u001b[0;34m)\u001b[0m\u001b[0;34m)\u001b[0m\u001b[0;34m)\u001b[0m\u001b[0;34m,\u001b[0m\u001b[0mtrain\u001b[0m\u001b[0;34m[\u001b[0m\u001b[0;34m'q2_tfidf'\u001b[0m\u001b[0;34m]\u001b[0m\u001b[0;34m.\u001b[0m\u001b[0mapply\u001b[0m\u001b[0;34m(\u001b[0m\u001b[0;32mlambda\u001b[0m \u001b[0mx\u001b[0m\u001b[0;34m:\u001b[0m\u001b[0msparse2full\u001b[0m\u001b[0;34m(\u001b[0m\u001b[0mx\u001b[0m\u001b[0;34m,\u001b[0m \u001b[0mlen\u001b[0m\u001b[0;34m(\u001b[0m\u001b[0mdctr\u001b[0m\u001b[0;34m)\u001b[0m\u001b[0;34m)\u001b[0m\u001b[0;34m)\u001b[0m\u001b[0;34m]\u001b[0m\u001b[0;34m)\u001b[0m\u001b[0;34m\u001b[0m\u001b[0m\n\u001b[0m",
            "\u001b[0;32m~/.local/lib/python3.5/site-packages/pandas/core/series.py\u001b[0m in \u001b[0;36mapply\u001b[0;34m(self, func, convert_dtype, args, **kwds)\u001b[0m\n\u001b[1;32m   2549\u001b[0m             \u001b[0;32melse\u001b[0m\u001b[0;34m:\u001b[0m\u001b[0;34m\u001b[0m\u001b[0m\n\u001b[1;32m   2550\u001b[0m                 \u001b[0mvalues\u001b[0m \u001b[0;34m=\u001b[0m \u001b[0mself\u001b[0m\u001b[0;34m.\u001b[0m\u001b[0masobject\u001b[0m\u001b[0;34m\u001b[0m\u001b[0m\n\u001b[0;32m-> 2551\u001b[0;31m                 \u001b[0mmapped\u001b[0m \u001b[0;34m=\u001b[0m \u001b[0mlib\u001b[0m\u001b[0;34m.\u001b[0m\u001b[0mmap_infer\u001b[0m\u001b[0;34m(\u001b[0m\u001b[0mvalues\u001b[0m\u001b[0;34m,\u001b[0m \u001b[0mf\u001b[0m\u001b[0;34m,\u001b[0m \u001b[0mconvert\u001b[0m\u001b[0;34m=\u001b[0m\u001b[0mconvert_dtype\u001b[0m\u001b[0;34m)\u001b[0m\u001b[0;34m\u001b[0m\u001b[0m\n\u001b[0m\u001b[1;32m   2552\u001b[0m \u001b[0;34m\u001b[0m\u001b[0m\n\u001b[1;32m   2553\u001b[0m         \u001b[0;32mif\u001b[0m \u001b[0mlen\u001b[0m\u001b[0;34m(\u001b[0m\u001b[0mmapped\u001b[0m\u001b[0;34m)\u001b[0m \u001b[0;32mand\u001b[0m \u001b[0misinstance\u001b[0m\u001b[0;34m(\u001b[0m\u001b[0mmapped\u001b[0m\u001b[0;34m[\u001b[0m\u001b[0;36m0\u001b[0m\u001b[0;34m]\u001b[0m\u001b[0;34m,\u001b[0m \u001b[0mSeries\u001b[0m\u001b[0;34m)\u001b[0m\u001b[0;34m:\u001b[0m\u001b[0;34m\u001b[0m\u001b[0m\n",
            "\u001b[0;31mKeyboardInterrupt\u001b[0m: "
          ]
        }
      ]
    },
    {
      "cell_type": "markdown",
      "metadata": {
        "id": "X6zQX_nIfJXE",
        "colab_type": "text"
      },
      "source": [
        "# **Deep model Alex**"
      ]
    },
    {
      "cell_type": "code",
      "metadata": {
        "id": "kZVvBSIEfSIR",
        "colab_type": "code",
        "colab": {
          "base_uri": "https://localhost:8080/",
          "height": 35
        },
        "outputId": "828f796c-22e4-4db0-bfc7-84f003e79459"
      },
      "source": [
        "from keras.models import Model\n",
        "from keras.layers.recurrent import GRU\n",
        "from keras.layers.normalization import BatchNormalization\n",
        "from keras.layers import Input, Dense\n",
        "from keras.layers import Dropout, Flatten\n",
        "import keras\n",
        "\n",
        "\n",
        "def define_network():\n",
        "\n",
        "    gru_shared_layer = GRU(300, dropout = 0.2, recurrent_dropout = 0.2, name = 'GRU_common')\n",
        "\n",
        "    input_1 = Input((None, 300), name = 'q1_input') # Input question 1\n",
        "    input_2 = Input((None, 300), name = 'q2_input') # Input question 2\n",
        "\n",
        "    gru_1 = gru_shared_layer(input_1)\n",
        "    gru_2 = gru_shared_layer(input_2)\n",
        "\n",
        "    merge = keras.layers.merge.concatenate([gru_1, gru_2])\n",
        "    \n",
        "    bn = BatchNormalization()(merge)\n",
        "    dense = Dense(300, activation = 'relu', name = \"relu_dense\")(bn)\n",
        "    drop = Dropout(0.2)(dense)\n",
        "    bn2 = BatchNormalization()(drop)\n",
        "    output = Dense(1, activation = 'sigmoid', name = 'output_dense')(bn2)\n",
        "\n",
        "\n",
        "    model = Model(inputs = [input_1, input_2], outputs = output)\n",
        "    model.compile(loss='binary_crossentropy', optimizer='adam', metrics=['accuracy'])\n",
        "\n",
        "    return model\n",
        "  "
      ],
      "execution_count": 10,
      "outputs": [
        {
          "output_type": "stream",
          "text": [
            "Using TensorFlow backend.\n"
          ],
          "name": "stderr"
        }
      ]
    },
    {
      "cell_type": "code",
      "metadata": {
        "id": "mOsb_q5pfZm_",
        "colab_type": "code",
        "colab": {}
      },
      "source": [
        "\n",
        "import pymagnitude as mag\n",
        "\n",
        "embedder = mag.Magnitude('/home/slimbook/PycharmProjects/question_deduplication/data/glove.6B.300d.magnitude') #local\n",
        "\n",
        "# batch generator, embedding the sentences\n",
        "\n",
        "def batch_generator(q1_list, q2_list, match_list, embedder, batch_size = 32):\n",
        "  while True:\n",
        "\n",
        "    l = len(q1_list)\n",
        "\n",
        "    for idx in range(0, l, batch_size):\n",
        "\n",
        "      yield [embedder.query(q1_list[idx:min(idx + batch_size, l)]), embedder.query(q2_list[idx:min(idx + batch_size, l)])], (np.array(match_list[idx:min(l, idx + batch_size)])==1).astype('float32').reshape(-1, 1)\n",
        "\n",
        "train = train.sample(frac=1).reset_index(drop=True)\n",
        "\n",
        "q1_list = train['q1_tokens'].tolist()\n",
        "q2_list = train['q2_tokens'].tolist()\n",
        "match_list = train['is_duplicate'].tolist()\n",
        "\n",
        "q1_val_list = val['q1_tokens'].tolist()\n",
        "q2_val_list = val['q2_tokens'].tolist()\n",
        "match_val_list = val['is_duplicate'].tolist()\n",
        "    \n",
        "batch_size = 32\n",
        "num_batches_per_epoch_train = len(q1_list)//batch_size+1\n",
        "num_batches_per_epoch_val = len(q1_val_list)//batch_size+1"
      ],
      "execution_count": 0,
      "outputs": []
    },
    {
      "cell_type": "code",
      "metadata": {
        "id": "d66Ah6h_lY9a",
        "colab_type": "code",
        "colab": {}
      },
      "source": [
        "batch = [i for i in batch_generator(q1_list, q2_list, match_list, embedder, batch_size)]\n"
      ],
      "execution_count": 0,
      "outputs": []
    },
    {
      "cell_type": "code",
      "metadata": {
        "id": "qhj_wa9slm0e",
        "colab_type": "code",
        "colab": {
          "base_uri": "https://localhost:8080/",
          "height": 35
        },
        "outputId": "66a29bfc-5647-4d15-8179-9a6791340d40"
      },
      "source": [
        "len(batch), num_batches_per_epoch_train"
      ],
      "execution_count": 21,
      "outputs": [
        {
          "output_type": "execute_result",
          "data": {
            "text/plain": [
              "(32, 32)"
            ]
          },
          "metadata": {
            "tags": []
          },
          "execution_count": 21
        }
      ]
    },
    {
      "cell_type": "code",
      "metadata": {
        "id": "qpockaSz4aoG",
        "colab_type": "code",
        "outputId": "9aee6f30-2e62-4e45-ac6b-362aa24874d5",
        "colab": {
          "base_uri": "https://localhost:8080/",
          "height": 654
        }
      },
      "source": [
        "model = define_network()\n",
        "\n",
        "model.summary()\n",
        "\n",
        "history = model.fit_generator(\n",
        "    generator = batch_generator(q1_list, q2_list, match_list, embedder, batch_size),\n",
        "    steps_per_epoch = num_batches_per_epoch_train,\n",
        "    validation_data = batch_generator(q1_val_list, q2_val_list, match_val_list, embedder, batch_size),\n",
        "    validation_steps = num_batches_per_epoch_val,\n",
        "    epochs = 4,\n",
        "    use_multiprocessing=True,\n",
        "    verbose = 2\n",
        ")"
      ],
      "execution_count": 25,
      "outputs": [
        {
          "output_type": "stream",
          "text": [
            "__________________________________________________________________________________________________\n",
            "Layer (type)                    Output Shape         Param #     Connected to                     \n",
            "==================================================================================================\n",
            "q1_input (InputLayer)           (None, None, 300)    0                                            \n",
            "__________________________________________________________________________________________________\n",
            "q2_input (InputLayer)           (None, None, 300)    0                                            \n",
            "__________________________________________________________________________________________________\n",
            "GRU_common (GRU)                (None, 300)          540900      q1_input[0][0]                   \n",
            "                                                                 q2_input[0][0]                   \n",
            "__________________________________________________________________________________________________\n",
            "concatenate_4 (Concatenate)     (None, 600)          0           GRU_common[0][0]                 \n",
            "                                                                 GRU_common[1][0]                 \n",
            "__________________________________________________________________________________________________\n",
            "batch_normalization_7 (BatchNor (None, 600)          2400        concatenate_4[0][0]              \n",
            "__________________________________________________________________________________________________\n",
            "relu_dense (Dense)              (None, 300)          180300      batch_normalization_7[0][0]      \n",
            "__________________________________________________________________________________________________\n",
            "dropout_4 (Dropout)             (None, 300)          0           relu_dense[0][0]                 \n",
            "__________________________________________________________________________________________________\n",
            "batch_normalization_8 (BatchNor (None, 300)          1200        dropout_4[0][0]                  \n",
            "__________________________________________________________________________________________________\n",
            "output_dense (Dense)            (None, 1)            301         batch_normalization_8[0][0]      \n",
            "==================================================================================================\n",
            "Total params: 725,101\n",
            "Trainable params: 723,301\n",
            "Non-trainable params: 1,800\n",
            "__________________________________________________________________________________________________\n",
            "Epoch 1/4\n",
            " - 11s - loss: 0.8639 - acc: 0.5136 - val_loss: 1.2162 - val_acc: 0.4200\n",
            "Epoch 2/4\n",
            " - 4s - loss: 0.7569 - acc: 0.5107 - val_loss: 1.2279 - val_acc: 0.4100\n",
            "Epoch 3/4\n",
            " - 4s - loss: 0.7358 - acc: 0.5468 - val_loss: 0.7111 - val_acc: 0.4900\n",
            "Epoch 4/4\n",
            " - 4s - loss: 0.7147 - acc: 0.5546 - val_loss: 0.7038 - val_acc: 0.5300\n"
          ],
          "name": "stdout"
        }
      ]
    },
    {
      "cell_type": "code",
      "metadata": {
        "id": "bkxbzIIolNA9",
        "colab_type": "code",
        "colab": {
          "base_uri": "https://localhost:8080/",
          "height": 35
        },
        "outputId": "d4841d8c-b15c-48be-b042-581d835c125e"
      },
      "source": [
        "5 // 2"
      ],
      "execution_count": 15,
      "outputs": [
        {
          "output_type": "execute_result",
          "data": {
            "text/plain": [
              "2"
            ]
          },
          "metadata": {
            "tags": []
          },
          "execution_count": 15
        }
      ]
    }
  ]
}